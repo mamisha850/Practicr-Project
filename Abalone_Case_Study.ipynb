{
 "cells": [
  {
   "cell_type": "code",
   "execution_count": 1,
   "id": "8266afdd",
   "metadata": {},
   "outputs": [],
   "source": [
    "import pandas as pd\n",
    "import numpy as np\n",
    "import seaborn as sns\n",
    "import matplotlib.pyplot as plt\n",
    "from statsmodels.stats.outliers_influence import variance_inflation_factor\n",
    "from sklearn.preprocessing import OrdinalEncoder\n",
    "from scipy.stats import zscore\n",
    "from sklearn.preprocessing import StandardScaler\n",
    "from sklearn.model_selection import train_test_split, GridSearchCV, cross_val_score\n",
    "from sklearn.metrics import r2_score,mean_squared_error,mean_absolute_error\n",
    "import pickle\n",
    "\n",
    "from sklearn.linear_model import LinearRegression\n",
    "from sklearn.tree import DecisionTreeRegressor\n",
    "from sklearn.ensemble import RandomForestRegressor\n",
    "from sklearn.ensemble import AdaBoostRegressor\n",
    "from sklearn.ensemble import GradientBoostingRegressor\n",
    "\n",
    "import warnings\n",
    "warnings.filterwarnings('ignore')"
   ]
  },
  {
   "cell_type": "code",
   "execution_count": 2,
   "id": "11249f1c",
   "metadata": {},
   "outputs": [
    {
     "data": {
      "text/html": [
       "<div>\n",
       "<style scoped>\n",
       "    .dataframe tbody tr th:only-of-type {\n",
       "        vertical-align: middle;\n",
       "    }\n",
       "\n",
       "    .dataframe tbody tr th {\n",
       "        vertical-align: top;\n",
       "    }\n",
       "\n",
       "    .dataframe thead th {\n",
       "        text-align: right;\n",
       "    }\n",
       "</style>\n",
       "<table border=\"1\" class=\"dataframe\">\n",
       "  <thead>\n",
       "    <tr style=\"text-align: right;\">\n",
       "      <th></th>\n",
       "      <th>Sex</th>\n",
       "      <th>Length</th>\n",
       "      <th>Diameter</th>\n",
       "      <th>Height</th>\n",
       "      <th>Whole weight</th>\n",
       "      <th>Shucked weight</th>\n",
       "      <th>Viscera weight</th>\n",
       "      <th>Shell weight</th>\n",
       "      <th>Rings</th>\n",
       "    </tr>\n",
       "  </thead>\n",
       "  <tbody>\n",
       "    <tr>\n",
       "      <th>0</th>\n",
       "      <td>M</td>\n",
       "      <td>0.455</td>\n",
       "      <td>0.365</td>\n",
       "      <td>0.095</td>\n",
       "      <td>0.5140</td>\n",
       "      <td>0.2245</td>\n",
       "      <td>0.1010</td>\n",
       "      <td>0.150</td>\n",
       "      <td>15</td>\n",
       "    </tr>\n",
       "    <tr>\n",
       "      <th>1</th>\n",
       "      <td>M</td>\n",
       "      <td>0.350</td>\n",
       "      <td>0.265</td>\n",
       "      <td>0.090</td>\n",
       "      <td>0.2255</td>\n",
       "      <td>0.0995</td>\n",
       "      <td>0.0485</td>\n",
       "      <td>0.070</td>\n",
       "      <td>7</td>\n",
       "    </tr>\n",
       "    <tr>\n",
       "      <th>2</th>\n",
       "      <td>F</td>\n",
       "      <td>0.530</td>\n",
       "      <td>0.420</td>\n",
       "      <td>0.135</td>\n",
       "      <td>0.6770</td>\n",
       "      <td>0.2565</td>\n",
       "      <td>0.1415</td>\n",
       "      <td>0.210</td>\n",
       "      <td>9</td>\n",
       "    </tr>\n",
       "    <tr>\n",
       "      <th>3</th>\n",
       "      <td>M</td>\n",
       "      <td>0.440</td>\n",
       "      <td>0.365</td>\n",
       "      <td>0.125</td>\n",
       "      <td>0.5160</td>\n",
       "      <td>0.2155</td>\n",
       "      <td>0.1140</td>\n",
       "      <td>0.155</td>\n",
       "      <td>10</td>\n",
       "    </tr>\n",
       "    <tr>\n",
       "      <th>4</th>\n",
       "      <td>I</td>\n",
       "      <td>0.330</td>\n",
       "      <td>0.255</td>\n",
       "      <td>0.080</td>\n",
       "      <td>0.2050</td>\n",
       "      <td>0.0895</td>\n",
       "      <td>0.0395</td>\n",
       "      <td>0.055</td>\n",
       "      <td>7</td>\n",
       "    </tr>\n",
       "  </tbody>\n",
       "</table>\n",
       "</div>"
      ],
      "text/plain": [
       "  Sex  Length  Diameter  Height  Whole weight  Shucked weight  Viscera weight  \\\n",
       "0   M   0.455     0.365   0.095        0.5140          0.2245          0.1010   \n",
       "1   M   0.350     0.265   0.090        0.2255          0.0995          0.0485   \n",
       "2   F   0.530     0.420   0.135        0.6770          0.2565          0.1415   \n",
       "3   M   0.440     0.365   0.125        0.5160          0.2155          0.1140   \n",
       "4   I   0.330     0.255   0.080        0.2050          0.0895          0.0395   \n",
       "\n",
       "   Shell weight  Rings  \n",
       "0         0.150     15  \n",
       "1         0.070      7  \n",
       "2         0.210      9  \n",
       "3         0.155     10  \n",
       "4         0.055      7  "
      ]
     },
     "execution_count": 2,
     "metadata": {},
     "output_type": "execute_result"
    }
   ],
   "source": [
    "data=pd.read_csv('https://raw.githubusercontent.com/dsrscientist/dataset1/master/abalone.csv')\n",
    "data.head()"
   ]
  },
  {
   "cell_type": "code",
   "execution_count": 3,
   "id": "8a58c378",
   "metadata": {},
   "outputs": [
    {
     "data": {
      "text/plain": [
       "(4177, 9)"
      ]
     },
     "execution_count": 3,
     "metadata": {},
     "output_type": "execute_result"
    }
   ],
   "source": [
    "data.shape"
   ]
  },
  {
   "cell_type": "code",
   "execution_count": 4,
   "id": "a5ba071a",
   "metadata": {},
   "outputs": [
    {
     "data": {
      "text/plain": [
       "Index(['Sex', 'Length', 'Diameter', 'Height', 'Whole weight', 'Shucked weight',\n",
       "       'Viscera weight', 'Shell weight', 'Rings'],\n",
       "      dtype='object')"
      ]
     },
     "execution_count": 4,
     "metadata": {},
     "output_type": "execute_result"
    }
   ],
   "source": [
    "data.columns"
   ]
  },
  {
   "cell_type": "code",
   "execution_count": 5,
   "id": "fc7a48c4",
   "metadata": {},
   "outputs": [
    {
     "data": {
      "text/plain": [
       "Sex               0\n",
       "Length            0\n",
       "Diameter          0\n",
       "Height            0\n",
       "Whole weight      0\n",
       "Shucked weight    0\n",
       "Viscera weight    0\n",
       "Shell weight      0\n",
       "Rings             0\n",
       "dtype: int64"
      ]
     },
     "execution_count": 5,
     "metadata": {},
     "output_type": "execute_result"
    }
   ],
   "source": [
    "data.isnull().sum()"
   ]
  },
  {
   "cell_type": "markdown",
   "id": "a1bc541e",
   "metadata": {},
   "source": [
    "We have to predict on the basis of age so we introduce new column 'Age' by Adding 1.5 in 'Rings' column. \n",
    "Then remove 'Rings' column from dataset."
   ]
  },
  {
   "cell_type": "code",
   "execution_count": 6,
   "id": "fabfa96a",
   "metadata": {},
   "outputs": [],
   "source": [
    "data['Age']=data['Rings']+1.5"
   ]
  },
  {
   "cell_type": "code",
   "execution_count": 7,
   "id": "f1421744",
   "metadata": {},
   "outputs": [
    {
     "data": {
      "text/html": [
       "<div>\n",
       "<style scoped>\n",
       "    .dataframe tbody tr th:only-of-type {\n",
       "        vertical-align: middle;\n",
       "    }\n",
       "\n",
       "    .dataframe tbody tr th {\n",
       "        vertical-align: top;\n",
       "    }\n",
       "\n",
       "    .dataframe thead th {\n",
       "        text-align: right;\n",
       "    }\n",
       "</style>\n",
       "<table border=\"1\" class=\"dataframe\">\n",
       "  <thead>\n",
       "    <tr style=\"text-align: right;\">\n",
       "      <th></th>\n",
       "      <th>Sex</th>\n",
       "      <th>Length</th>\n",
       "      <th>Diameter</th>\n",
       "      <th>Height</th>\n",
       "      <th>Whole weight</th>\n",
       "      <th>Shucked weight</th>\n",
       "      <th>Viscera weight</th>\n",
       "      <th>Shell weight</th>\n",
       "      <th>Age</th>\n",
       "    </tr>\n",
       "  </thead>\n",
       "  <tbody>\n",
       "    <tr>\n",
       "      <th>0</th>\n",
       "      <td>M</td>\n",
       "      <td>0.455</td>\n",
       "      <td>0.365</td>\n",
       "      <td>0.095</td>\n",
       "      <td>0.5140</td>\n",
       "      <td>0.2245</td>\n",
       "      <td>0.1010</td>\n",
       "      <td>0.150</td>\n",
       "      <td>16.5</td>\n",
       "    </tr>\n",
       "    <tr>\n",
       "      <th>1</th>\n",
       "      <td>M</td>\n",
       "      <td>0.350</td>\n",
       "      <td>0.265</td>\n",
       "      <td>0.090</td>\n",
       "      <td>0.2255</td>\n",
       "      <td>0.0995</td>\n",
       "      <td>0.0485</td>\n",
       "      <td>0.070</td>\n",
       "      <td>8.5</td>\n",
       "    </tr>\n",
       "    <tr>\n",
       "      <th>2</th>\n",
       "      <td>F</td>\n",
       "      <td>0.530</td>\n",
       "      <td>0.420</td>\n",
       "      <td>0.135</td>\n",
       "      <td>0.6770</td>\n",
       "      <td>0.2565</td>\n",
       "      <td>0.1415</td>\n",
       "      <td>0.210</td>\n",
       "      <td>10.5</td>\n",
       "    </tr>\n",
       "    <tr>\n",
       "      <th>3</th>\n",
       "      <td>M</td>\n",
       "      <td>0.440</td>\n",
       "      <td>0.365</td>\n",
       "      <td>0.125</td>\n",
       "      <td>0.5160</td>\n",
       "      <td>0.2155</td>\n",
       "      <td>0.1140</td>\n",
       "      <td>0.155</td>\n",
       "      <td>11.5</td>\n",
       "    </tr>\n",
       "    <tr>\n",
       "      <th>4</th>\n",
       "      <td>I</td>\n",
       "      <td>0.330</td>\n",
       "      <td>0.255</td>\n",
       "      <td>0.080</td>\n",
       "      <td>0.2050</td>\n",
       "      <td>0.0895</td>\n",
       "      <td>0.0395</td>\n",
       "      <td>0.055</td>\n",
       "      <td>8.5</td>\n",
       "    </tr>\n",
       "  </tbody>\n",
       "</table>\n",
       "</div>"
      ],
      "text/plain": [
       "  Sex  Length  Diameter  Height  Whole weight  Shucked weight  Viscera weight  \\\n",
       "0   M   0.455     0.365   0.095        0.5140          0.2245          0.1010   \n",
       "1   M   0.350     0.265   0.090        0.2255          0.0995          0.0485   \n",
       "2   F   0.530     0.420   0.135        0.6770          0.2565          0.1415   \n",
       "3   M   0.440     0.365   0.125        0.5160          0.2155          0.1140   \n",
       "4   I   0.330     0.255   0.080        0.2050          0.0895          0.0395   \n",
       "\n",
       "   Shell weight   Age  \n",
       "0         0.150  16.5  \n",
       "1         0.070   8.5  \n",
       "2         0.210  10.5  \n",
       "3         0.155  11.5  \n",
       "4         0.055   8.5  "
      ]
     },
     "execution_count": 7,
     "metadata": {},
     "output_type": "execute_result"
    }
   ],
   "source": [
    "data=data.drop('Rings',axis=1)\n",
    "data.head()"
   ]
  },
  {
   "cell_type": "code",
   "execution_count": 8,
   "id": "c8873974",
   "metadata": {},
   "outputs": [
    {
     "data": {
      "text/plain": [
       "Index(['Sex', 'Length', 'Diameter', 'Height', 'Whole weight', 'Shucked weight',\n",
       "       'Viscera weight', 'Shell weight', 'Age'],\n",
       "      dtype='object')"
      ]
     },
     "execution_count": 8,
     "metadata": {},
     "output_type": "execute_result"
    }
   ],
   "source": [
    "data.columns"
   ]
  },
  {
   "cell_type": "code",
   "execution_count": 9,
   "id": "f7cf473b",
   "metadata": {},
   "outputs": [
    {
     "data": {
      "text/plain": [
       "Sex                object\n",
       "Length            float64\n",
       "Diameter          float64\n",
       "Height            float64\n",
       "Whole weight      float64\n",
       "Shucked weight    float64\n",
       "Viscera weight    float64\n",
       "Shell weight      float64\n",
       "Age               float64\n",
       "dtype: object"
      ]
     },
     "execution_count": 9,
     "metadata": {},
     "output_type": "execute_result"
    }
   ],
   "source": [
    "data.dtypes"
   ]
  },
  {
   "cell_type": "markdown",
   "id": "716bc915",
   "metadata": {},
   "source": [
    " There is one object data type and we have to convert it into nominal data"
   ]
  },
  {
   "cell_type": "code",
   "execution_count": 10,
   "id": "139a3548",
   "metadata": {},
   "outputs": [
    {
     "data": {
      "text/html": [
       "<div>\n",
       "<style scoped>\n",
       "    .dataframe tbody tr th:only-of-type {\n",
       "        vertical-align: middle;\n",
       "    }\n",
       "\n",
       "    .dataframe tbody tr th {\n",
       "        vertical-align: top;\n",
       "    }\n",
       "\n",
       "    .dataframe thead th {\n",
       "        text-align: right;\n",
       "    }\n",
       "</style>\n",
       "<table border=\"1\" class=\"dataframe\">\n",
       "  <thead>\n",
       "    <tr style=\"text-align: right;\">\n",
       "      <th></th>\n",
       "      <th>Sex</th>\n",
       "      <th>Length</th>\n",
       "      <th>Diameter</th>\n",
       "      <th>Height</th>\n",
       "      <th>Whole weight</th>\n",
       "      <th>Shucked weight</th>\n",
       "      <th>Viscera weight</th>\n",
       "      <th>Shell weight</th>\n",
       "      <th>Age</th>\n",
       "    </tr>\n",
       "  </thead>\n",
       "  <tbody>\n",
       "    <tr>\n",
       "      <th>0</th>\n",
       "      <td>2.0</td>\n",
       "      <td>0.455</td>\n",
       "      <td>0.365</td>\n",
       "      <td>0.095</td>\n",
       "      <td>0.5140</td>\n",
       "      <td>0.2245</td>\n",
       "      <td>0.1010</td>\n",
       "      <td>0.150</td>\n",
       "      <td>16.5</td>\n",
       "    </tr>\n",
       "    <tr>\n",
       "      <th>1</th>\n",
       "      <td>2.0</td>\n",
       "      <td>0.350</td>\n",
       "      <td>0.265</td>\n",
       "      <td>0.090</td>\n",
       "      <td>0.2255</td>\n",
       "      <td>0.0995</td>\n",
       "      <td>0.0485</td>\n",
       "      <td>0.070</td>\n",
       "      <td>8.5</td>\n",
       "    </tr>\n",
       "    <tr>\n",
       "      <th>2</th>\n",
       "      <td>0.0</td>\n",
       "      <td>0.530</td>\n",
       "      <td>0.420</td>\n",
       "      <td>0.135</td>\n",
       "      <td>0.6770</td>\n",
       "      <td>0.2565</td>\n",
       "      <td>0.1415</td>\n",
       "      <td>0.210</td>\n",
       "      <td>10.5</td>\n",
       "    </tr>\n",
       "    <tr>\n",
       "      <th>3</th>\n",
       "      <td>2.0</td>\n",
       "      <td>0.440</td>\n",
       "      <td>0.365</td>\n",
       "      <td>0.125</td>\n",
       "      <td>0.5160</td>\n",
       "      <td>0.2155</td>\n",
       "      <td>0.1140</td>\n",
       "      <td>0.155</td>\n",
       "      <td>11.5</td>\n",
       "    </tr>\n",
       "    <tr>\n",
       "      <th>4</th>\n",
       "      <td>1.0</td>\n",
       "      <td>0.330</td>\n",
       "      <td>0.255</td>\n",
       "      <td>0.080</td>\n",
       "      <td>0.2050</td>\n",
       "      <td>0.0895</td>\n",
       "      <td>0.0395</td>\n",
       "      <td>0.055</td>\n",
       "      <td>8.5</td>\n",
       "    </tr>\n",
       "  </tbody>\n",
       "</table>\n",
       "</div>"
      ],
      "text/plain": [
       "   Sex  Length  Diameter  Height  Whole weight  Shucked weight  \\\n",
       "0  2.0   0.455     0.365   0.095        0.5140          0.2245   \n",
       "1  2.0   0.350     0.265   0.090        0.2255          0.0995   \n",
       "2  0.0   0.530     0.420   0.135        0.6770          0.2565   \n",
       "3  2.0   0.440     0.365   0.125        0.5160          0.2155   \n",
       "4  1.0   0.330     0.255   0.080        0.2050          0.0895   \n",
       "\n",
       "   Viscera weight  Shell weight   Age  \n",
       "0          0.1010         0.150  16.5  \n",
       "1          0.0485         0.070   8.5  \n",
       "2          0.1415         0.210  10.5  \n",
       "3          0.1140         0.155  11.5  \n",
       "4          0.0395         0.055   8.5  "
      ]
     },
     "execution_count": 10,
     "metadata": {},
     "output_type": "execute_result"
    }
   ],
   "source": [
    "enc=OrdinalEncoder()\n",
    "\n",
    "data['Sex']=enc.fit_transform(data['Sex'].values.reshape(-1,1))\n",
    "data.head()"
   ]
  },
  {
   "cell_type": "code",
   "execution_count": 11,
   "id": "b48bd573",
   "metadata": {},
   "outputs": [
    {
     "data": {
      "text/plain": [
       "Sex               float64\n",
       "Length            float64\n",
       "Diameter          float64\n",
       "Height            float64\n",
       "Whole weight      float64\n",
       "Shucked weight    float64\n",
       "Viscera weight    float64\n",
       "Shell weight      float64\n",
       "Age               float64\n",
       "dtype: object"
      ]
     },
     "execution_count": 11,
     "metadata": {},
     "output_type": "execute_result"
    }
   ],
   "source": [
    "data.dtypes"
   ]
  },
  {
   "cell_type": "markdown",
   "id": "76792769",
   "metadata": {},
   "source": [
    "#                                            VISUALISATION"
   ]
  },
  {
   "cell_type": "markdown",
   "id": "61ae9cf3",
   "metadata": {},
   "source": [
    "Sex is the nominal data for which we use countplot"
   ]
  },
  {
   "cell_type": "code",
   "execution_count": 12,
   "id": "3b1577a4",
   "metadata": {},
   "outputs": [
    {
     "name": "stdout",
     "output_type": "stream",
     "text": [
      "2.0    1528\n",
      "1.0    1342\n",
      "0.0    1307\n",
      "Name: Sex, dtype: int64\n"
     ]
    },
    {
     "data": {
      "image/png": "[encoded data removed]",
      "text/plain": [
       "<Figure size 432x288 with 1 Axes>"
      ]
     },
     "metadata": {
      "needs_background": "light"
     },
     "output_type": "display_data"
    }
   ],
   "source": [
    "ax= sns.countplot(x='Sex',data=data[['Sex']].copy())\n",
    "print(data['Sex'].value_counts())"
   ]
  },
  {
   "cell_type": "markdown",
   "id": "a62cebf5",
   "metadata": {},
   "source": [
    "Representation of Sex:\n",
    "   \n",
    "       0 : Female\n",
    "       1 : Infant\n",
    "       2 : Male "
   ]
  },
  {
   "cell_type": "markdown",
   "id": "4e5d6e59",
   "metadata": {},
   "source": [
    "Continuous data are: \n",
    "   Length\n",
    "   Diameter\n",
    "   Height\n",
    "   Whole weight\n",
    "   Shucked weight\n",
    "   Viscera weight\n",
    "   Shell weight\n",
    "   Age\n",
    "\n",
    "For continuous data we use distplot"
   ]
  },
  {
   "cell_type": "code",
   "execution_count": 13,
   "id": "8bfb3a84",
   "metadata": {},
   "outputs": [
    {
     "data": {
      "image/png": "[encoded data removed]",
      "text/plain": [
       "<Figure size 1440x1800 with 8 Axes>"
      ]
     },
     "metadata": {},
     "output_type": "display_data"
    }
   ],
   "source": [
    "df=data.drop(columns=['Sex'])\n",
    "\n",
    "plt.figure(figsize=(20,25),facecolor = 'yellow')\n",
    "plotnumber =1\n",
    "\n",
    "for column in df:\n",
    "    if plotnumber <=8:\n",
    "        ax = plt.subplot(3,3,plotnumber)\n",
    "        sns.distplot(df[column])\n",
    "        plt.xlabel(column,fontsize=20)\n",
    "        \n",
    "    plotnumber+=1\n",
    "plt.show()    "
   ]
  },
  {
   "cell_type": "code",
   "execution_count": 14,
   "id": "a9c5c36f",
   "metadata": {},
   "outputs": [
    {
     "data": {
      "text/html": [
       "<div>\n",
       "<style scoped>\n",
       "    .dataframe tbody tr th:only-of-type {\n",
       "        vertical-align: middle;\n",
       "    }\n",
       "\n",
       "    .dataframe tbody tr th {\n",
       "        vertical-align: top;\n",
       "    }\n",
       "\n",
       "    .dataframe thead th {\n",
       "        text-align: right;\n",
       "    }\n",
       "</style>\n",
       "<table border=\"1\" class=\"dataframe\">\n",
       "  <thead>\n",
       "    <tr style=\"text-align: right;\">\n",
       "      <th></th>\n",
       "      <th>Sex</th>\n",
       "      <th>Length</th>\n",
       "      <th>Diameter</th>\n",
       "      <th>Height</th>\n",
       "      <th>Whole weight</th>\n",
       "      <th>Shucked weight</th>\n",
       "      <th>Viscera weight</th>\n",
       "      <th>Shell weight</th>\n",
       "      <th>Age</th>\n",
       "    </tr>\n",
       "  </thead>\n",
       "  <tbody>\n",
       "    <tr>\n",
       "      <th>count</th>\n",
       "      <td>4177.000000</td>\n",
       "      <td>4177.000000</td>\n",
       "      <td>4177.000000</td>\n",
       "      <td>4177.000000</td>\n",
       "      <td>4177.000000</td>\n",
       "      <td>4177.000000</td>\n",
       "      <td>4177.000000</td>\n",
       "      <td>4177.000000</td>\n",
       "      <td>4177.000000</td>\n",
       "    </tr>\n",
       "    <tr>\n",
       "      <th>mean</th>\n",
       "      <td>1.052909</td>\n",
       "      <td>0.523992</td>\n",
       "      <td>0.407881</td>\n",
       "      <td>0.139516</td>\n",
       "      <td>0.828742</td>\n",
       "      <td>0.359367</td>\n",
       "      <td>0.180594</td>\n",
       "      <td>0.238831</td>\n",
       "      <td>11.433684</td>\n",
       "    </tr>\n",
       "    <tr>\n",
       "      <th>std</th>\n",
       "      <td>0.822240</td>\n",
       "      <td>0.120093</td>\n",
       "      <td>0.099240</td>\n",
       "      <td>0.041827</td>\n",
       "      <td>0.490389</td>\n",
       "      <td>0.221963</td>\n",
       "      <td>0.109614</td>\n",
       "      <td>0.139203</td>\n",
       "      <td>3.224169</td>\n",
       "    </tr>\n",
       "    <tr>\n",
       "      <th>min</th>\n",
       "      <td>0.000000</td>\n",
       "      <td>0.075000</td>\n",
       "      <td>0.055000</td>\n",
       "      <td>0.000000</td>\n",
       "      <td>0.002000</td>\n",
       "      <td>0.001000</td>\n",
       "      <td>0.000500</td>\n",
       "      <td>0.001500</td>\n",
       "      <td>2.500000</td>\n",
       "    </tr>\n",
       "    <tr>\n",
       "      <th>25%</th>\n",
       "      <td>0.000000</td>\n",
       "      <td>0.450000</td>\n",
       "      <td>0.350000</td>\n",
       "      <td>0.115000</td>\n",
       "      <td>0.441500</td>\n",
       "      <td>0.186000</td>\n",
       "      <td>0.093500</td>\n",
       "      <td>0.130000</td>\n",
       "      <td>9.500000</td>\n",
       "    </tr>\n",
       "    <tr>\n",
       "      <th>50%</th>\n",
       "      <td>1.000000</td>\n",
       "      <td>0.545000</td>\n",
       "      <td>0.425000</td>\n",
       "      <td>0.140000</td>\n",
       "      <td>0.799500</td>\n",
       "      <td>0.336000</td>\n",
       "      <td>0.171000</td>\n",
       "      <td>0.234000</td>\n",
       "      <td>10.500000</td>\n",
       "    </tr>\n",
       "    <tr>\n",
       "      <th>75%</th>\n",
       "      <td>2.000000</td>\n",
       "      <td>0.615000</td>\n",
       "      <td>0.480000</td>\n",
       "      <td>0.165000</td>\n",
       "      <td>1.153000</td>\n",
       "      <td>0.502000</td>\n",
       "      <td>0.253000</td>\n",
       "      <td>0.329000</td>\n",
       "      <td>12.500000</td>\n",
       "    </tr>\n",
       "    <tr>\n",
       "      <th>max</th>\n",
       "      <td>2.000000</td>\n",
       "      <td>0.815000</td>\n",
       "      <td>0.650000</td>\n",
       "      <td>1.130000</td>\n",
       "      <td>2.825500</td>\n",
       "      <td>1.488000</td>\n",
       "      <td>0.760000</td>\n",
       "      <td>1.005000</td>\n",
       "      <td>30.500000</td>\n",
       "    </tr>\n",
       "  </tbody>\n",
       "</table>\n",
       "</div>"
      ],
      "text/plain": [
       "               Sex       Length     Diameter       Height  Whole weight  \\\n",
       "count  4177.000000  4177.000000  4177.000000  4177.000000   4177.000000   \n",
       "mean      1.052909     0.523992     0.407881     0.139516      0.828742   \n",
       "std       0.822240     0.120093     0.099240     0.041827      0.490389   \n",
       "min       0.000000     0.075000     0.055000     0.000000      0.002000   \n",
       "25%       0.000000     0.450000     0.350000     0.115000      0.441500   \n",
       "50%       1.000000     0.545000     0.425000     0.140000      0.799500   \n",
       "75%       2.000000     0.615000     0.480000     0.165000      1.153000   \n",
       "max       2.000000     0.815000     0.650000     1.130000      2.825500   \n",
       "\n",
       "       Shucked weight  Viscera weight  Shell weight          Age  \n",
       "count     4177.000000     4177.000000   4177.000000  4177.000000  \n",
       "mean         0.359367        0.180594      0.238831    11.433684  \n",
       "std          0.221963        0.109614      0.139203     3.224169  \n",
       "min          0.001000        0.000500      0.001500     2.500000  \n",
       "25%          0.186000        0.093500      0.130000     9.500000  \n",
       "50%          0.336000        0.171000      0.234000    10.500000  \n",
       "75%          0.502000        0.253000      0.329000    12.500000  \n",
       "max          1.488000        0.760000      1.005000    30.500000  "
      ]
     },
     "execution_count": 14,
     "metadata": {},
     "output_type": "execute_result"
    }
   ],
   "source": [
    "data.describe()"
   ]
  },
  {
   "cell_type": "code",
   "execution_count": 15,
   "id": "66e00a69",
   "metadata": {},
   "outputs": [
    {
     "data": {
      "image/png": "[encoded data removed]",
      "text/plain": [
       "<Figure size 1080x864 with 2 Axes>"
      ]
     },
     "metadata": {
      "needs_background": "light"
     },
     "output_type": "display_data"
    }
   ],
   "source": [
    "plt.figure(figsize=(15,12))\n",
    "sns.heatmap(data.describe().transpose(),linewidth=2,annot=True,fmt='f')\n",
    "plt.xticks(fontsize=18)\n",
    "plt.yticks(fontsize=12)\n",
    "plt.title(\"Describe the whole dataset\")\n",
    "plt.show()"
   ]
  },
  {
   "cell_type": "markdown",
   "id": "a8ee3b90",
   "metadata": {},
   "source": [
    "The Description od the data set\n",
    "\n",
    "There are 4177 rows and 9 columns.\n",
    "\n",
    "The mean, std, minimum and maximum values are:\n",
    "    \n",
    "    Sex:\n",
    "        mean: 1.052909\n",
    "        std:  0.822240\n",
    "        minimum: 0.000000\n",
    "        maximum: 2.000000   \n",
    "        \n",
    "    Length:\n",
    "        mean: 0.523992\n",
    "        std:  0.120093\n",
    "        minimum: 0.075000\n",
    "        maximum: 0.815000\n",
    "        \n",
    "    Diameter:\n",
    "        mean: 0.407881\n",
    "        std:  0.099240\n",
    "        minimum: 0.055000\n",
    "        maximum: 0.650000\n",
    "        \n",
    "    Height:\n",
    "        mean: 0.139516\n",
    "        std:  0.041827\n",
    "        minimum: 0.000000\n",
    "        maximum: 1.130000\n",
    "        \n",
    "    Whole weight:\n",
    "        mean: 0.828742\n",
    "        std:  0.490389\n",
    "        minimum: 0.002000\n",
    "        maximum: 2.825500\n",
    "        \n",
    "    Shucked weight:\n",
    "        mean: 0.359367\n",
    "        std: 0.221963\n",
    "        minimum: 0.001000\n",
    "        maximum: 1.488000\n",
    "        \n",
    "    Viscera weight:\n",
    "        mean: 0.180594\n",
    "        std:  0.109614\n",
    "        minimum: 0.000500\n",
    "        maximum: 0.760000\n",
    "        \n",
    "    Shell weight:\n",
    "        mean: 0.238831\n",
    "        std:  0.139203\n",
    "        minimum: 0.001500\n",
    "        maximum: 1.005000\n",
    "    "
   ]
  },
  {
   "cell_type": "code",
   "execution_count": 16,
   "id": "985609db",
   "metadata": {},
   "outputs": [
    {
     "data": {
      "text/html": [
       "<div>\n",
       "<style scoped>\n",
       "    .dataframe tbody tr th:only-of-type {\n",
       "        vertical-align: middle;\n",
       "    }\n",
       "\n",
       "    .dataframe tbody tr th {\n",
       "        vertical-align: top;\n",
       "    }\n",
       "\n",
       "    .dataframe thead th {\n",
       "        text-align: right;\n",
       "    }\n",
       "</style>\n",
       "<table border=\"1\" class=\"dataframe\">\n",
       "  <thead>\n",
       "    <tr style=\"text-align: right;\">\n",
       "      <th></th>\n",
       "      <th>Sex</th>\n",
       "      <th>Length</th>\n",
       "      <th>Diameter</th>\n",
       "      <th>Height</th>\n",
       "      <th>Whole weight</th>\n",
       "      <th>Shucked weight</th>\n",
       "      <th>Viscera weight</th>\n",
       "      <th>Shell weight</th>\n",
       "      <th>Age</th>\n",
       "    </tr>\n",
       "  </thead>\n",
       "  <tbody>\n",
       "    <tr>\n",
       "      <th>Sex</th>\n",
       "      <td>1.000000</td>\n",
       "      <td>-0.036066</td>\n",
       "      <td>-0.038874</td>\n",
       "      <td>-0.042077</td>\n",
       "      <td>-0.021391</td>\n",
       "      <td>-0.001373</td>\n",
       "      <td>-0.032067</td>\n",
       "      <td>-0.034854</td>\n",
       "      <td>-0.034627</td>\n",
       "    </tr>\n",
       "    <tr>\n",
       "      <th>Length</th>\n",
       "      <td>-0.036066</td>\n",
       "      <td>1.000000</td>\n",
       "      <td>0.986812</td>\n",
       "      <td>0.827554</td>\n",
       "      <td>0.925261</td>\n",
       "      <td>0.897914</td>\n",
       "      <td>0.903018</td>\n",
       "      <td>0.897706</td>\n",
       "      <td>0.556720</td>\n",
       "    </tr>\n",
       "    <tr>\n",
       "      <th>Diameter</th>\n",
       "      <td>-0.038874</td>\n",
       "      <td>0.986812</td>\n",
       "      <td>1.000000</td>\n",
       "      <td>0.833684</td>\n",
       "      <td>0.925452</td>\n",
       "      <td>0.893162</td>\n",
       "      <td>0.899724</td>\n",
       "      <td>0.905330</td>\n",
       "      <td>0.574660</td>\n",
       "    </tr>\n",
       "    <tr>\n",
       "      <th>Height</th>\n",
       "      <td>-0.042077</td>\n",
       "      <td>0.827554</td>\n",
       "      <td>0.833684</td>\n",
       "      <td>1.000000</td>\n",
       "      <td>0.819221</td>\n",
       "      <td>0.774972</td>\n",
       "      <td>0.798319</td>\n",
       "      <td>0.817338</td>\n",
       "      <td>0.557467</td>\n",
       "    </tr>\n",
       "    <tr>\n",
       "      <th>Whole weight</th>\n",
       "      <td>-0.021391</td>\n",
       "      <td>0.925261</td>\n",
       "      <td>0.925452</td>\n",
       "      <td>0.819221</td>\n",
       "      <td>1.000000</td>\n",
       "      <td>0.969405</td>\n",
       "      <td>0.966375</td>\n",
       "      <td>0.955355</td>\n",
       "      <td>0.540390</td>\n",
       "    </tr>\n",
       "    <tr>\n",
       "      <th>Shucked weight</th>\n",
       "      <td>-0.001373</td>\n",
       "      <td>0.897914</td>\n",
       "      <td>0.893162</td>\n",
       "      <td>0.774972</td>\n",
       "      <td>0.969405</td>\n",
       "      <td>1.000000</td>\n",
       "      <td>0.931961</td>\n",
       "      <td>0.882617</td>\n",
       "      <td>0.420884</td>\n",
       "    </tr>\n",
       "    <tr>\n",
       "      <th>Viscera weight</th>\n",
       "      <td>-0.032067</td>\n",
       "      <td>0.903018</td>\n",
       "      <td>0.899724</td>\n",
       "      <td>0.798319</td>\n",
       "      <td>0.966375</td>\n",
       "      <td>0.931961</td>\n",
       "      <td>1.000000</td>\n",
       "      <td>0.907656</td>\n",
       "      <td>0.503819</td>\n",
       "    </tr>\n",
       "    <tr>\n",
       "      <th>Shell weight</th>\n",
       "      <td>-0.034854</td>\n",
       "      <td>0.897706</td>\n",
       "      <td>0.905330</td>\n",
       "      <td>0.817338</td>\n",
       "      <td>0.955355</td>\n",
       "      <td>0.882617</td>\n",
       "      <td>0.907656</td>\n",
       "      <td>1.000000</td>\n",
       "      <td>0.627574</td>\n",
       "    </tr>\n",
       "    <tr>\n",
       "      <th>Age</th>\n",
       "      <td>-0.034627</td>\n",
       "      <td>0.556720</td>\n",
       "      <td>0.574660</td>\n",
       "      <td>0.557467</td>\n",
       "      <td>0.540390</td>\n",
       "      <td>0.420884</td>\n",
       "      <td>0.503819</td>\n",
       "      <td>0.627574</td>\n",
       "      <td>1.000000</td>\n",
       "    </tr>\n",
       "  </tbody>\n",
       "</table>\n",
       "</div>"
      ],
      "text/plain": [
       "                     Sex    Length  Diameter    Height  Whole weight  \\\n",
       "Sex             1.000000 -0.036066 -0.038874 -0.042077     -0.021391   \n",
       "Length         -0.036066  1.000000  0.986812  0.827554      0.925261   \n",
       "Diameter       -0.038874  0.986812  1.000000  0.833684      0.925452   \n",
       "Height         -0.042077  0.827554  0.833684  1.000000      0.819221   \n",
       "Whole weight   -0.021391  0.925261  0.925452  0.819221      1.000000   \n",
       "Shucked weight -0.001373  0.897914  0.893162  0.774972      0.969405   \n",
       "Viscera weight -0.032067  0.903018  0.899724  0.798319      0.966375   \n",
       "Shell weight   -0.034854  0.897706  0.905330  0.817338      0.955355   \n",
       "Age            -0.034627  0.556720  0.574660  0.557467      0.540390   \n",
       "\n",
       "                Shucked weight  Viscera weight  Shell weight       Age  \n",
       "Sex                  -0.001373       -0.032067     -0.034854 -0.034627  \n",
       "Length                0.897914        0.903018      0.897706  0.556720  \n",
       "Diameter              0.893162        0.899724      0.905330  0.574660  \n",
       "Height                0.774972        0.798319      0.817338  0.557467  \n",
       "Whole weight          0.969405        0.966375      0.955355  0.540390  \n",
       "Shucked weight        1.000000        0.931961      0.882617  0.420884  \n",
       "Viscera weight        0.931961        1.000000      0.907656  0.503819  \n",
       "Shell weight          0.882617        0.907656      1.000000  0.627574  \n",
       "Age                   0.420884        0.503819      0.627574  1.000000  "
      ]
     },
     "execution_count": 16,
     "metadata": {},
     "output_type": "execute_result"
    }
   ],
   "source": [
    "data.corr()"
   ]
  },
  {
   "cell_type": "code",
   "execution_count": 17,
   "id": "6d96a282",
   "metadata": {},
   "outputs": [
    {
     "data": {
      "text/plain": [
       "<AxesSubplot:>"
      ]
     },
     "execution_count": 17,
     "metadata": {},
     "output_type": "execute_result"
    },
    {
     "data": {
      "image/png": "[encoded data removed]",
      "text/plain": [
       "<Figure size 1152x576 with 2 Axes>"
      ]
     },
     "metadata": {
      "needs_background": "light"
     },
     "output_type": "display_data"
    }
   ],
   "source": [
    "plt.figure(figsize=(16,8))\n",
    "sns.heatmap(data.corr(),annot=True,linewidth=0.5,linecolor='black')"
   ]
  },
  {
   "cell_type": "code",
   "execution_count": 18,
   "id": "cd69e52e",
   "metadata": {},
   "outputs": [
    {
     "data": {
      "image/png": "[encoded data removed]",
      "text/plain": [
       "<Figure size 720x288 with 1 Axes>"
      ]
     },
     "metadata": {
      "needs_background": "light"
     },
     "output_type": "display_data"
    }
   ],
   "source": [
    "plt.figure(figsize=(10,4))\n",
    "data.corr()['Age'].sort_values(ascending=False).drop(['Age']).plot(kind='bar',color='c')\n",
    "plt.xlabel('Input variable',fontsize=14)\n",
    "plt.ylabel('column with output',fontsize=14)\n",
    "plt.title(\"correlation\",fontsize=20)\n",
    "plt.show()"
   ]
  },
  {
   "cell_type": "markdown",
   "id": "1cc583cc",
   "metadata": {},
   "source": [
    "Sex is only negatively correlated with target variable. Length,Diameter,Height,Whole weight,Shucked weight,Viscera weight\n",
    "and Sex are positively correlated.\n",
    "\n",
    "The corrleation of feature variable to the target variable is:\n",
    "\n",
    "    Sex has 3% correlation with the target variable which is consider as week bond.\n",
    "    Length has 56% \n",
    "    Diameter has 57%\n",
    "    Height has 56% \n",
    "    Whole weight has 54%\n",
    "    Shucked weight has 42%\n",
    "    Viscera weight has 50%\n",
    "    Shell weight has 63%"
   ]
  },
  {
   "cell_type": "code",
   "execution_count": null,
   "id": "1c63acb4",
   "metadata": {},
   "outputs": [],
   "source": [
    "Check Skewness/outlier only on continuous data but not on categorical data and target variable"
   ]
  },
  {
   "cell_type": "code",
   "execution_count": null,
   "id": "f71c4fd6",
   "metadata": {},
   "outputs": [],
   "source": [
    "Check the outliers"
   ]
  },
  {
   "cell_type": "code",
   "execution_count": 19,
   "id": "fe53b34c",
   "metadata": {},
   "outputs": [
    {
     "data": {
      "image/png": "[encoded data removed]",
      "text/plain": [
       "<Figure size 1440x1800 with 9 Axes>"
      ]
     },
     "metadata": {
      "needs_background": "light"
     },
     "output_type": "display_data"
    }
   ],
   "source": [
    "plt.figure(figsize=(20,25))\n",
    "number = 1\n",
    "\n",
    "for column in data:\n",
    "    if number <=9:\n",
    "        plt.subplot(3,3,number)\n",
    "        ax = sns.boxplot(data=data[column])\n",
    "        plt.xlabel(column,fontsize=15)\n",
    "       \n",
    "    number+=1\n",
    "plt.show()   "
   ]
  },
  {
   "cell_type": "markdown",
   "id": "ba1140c7",
   "metadata": {},
   "source": [
    "Outliers are present in the columns:\n",
    "\n",
    "Upward outliers are presnt in the columns:\n",
    "    Height (two but in large deviation)\n",
    "    Whole weight\n",
    "    Shucked weight\n",
    "    Viscera weight\n",
    "    shell weight\n",
    "Downward outliers are present in the columns:\n",
    "    Length\n",
    "    Diameter\n",
    "    Height"
   ]
  },
  {
   "cell_type": "code",
   "execution_count": 20,
   "id": "91ffe0b4",
   "metadata": {},
   "outputs": [
    {
     "data": {
      "text/plain": [
       "Sex              -0.098155\n",
       "Length           -0.639873\n",
       "Diameter         -0.609198\n",
       "Height            3.128817\n",
       "Whole weight      0.530959\n",
       "Shucked weight    0.719098\n",
       "Viscera weight    0.591852\n",
       "Shell weight      0.620927\n",
       "Age               1.114102\n",
       "dtype: float64"
      ]
     },
     "execution_count": 20,
     "metadata": {},
     "output_type": "execute_result"
    }
   ],
   "source": [
    "data.skew()"
   ]
  },
  {
   "cell_type": "code",
   "execution_count": null,
   "id": "f513f71d",
   "metadata": {},
   "outputs": [],
   "source": [
    "Take threshold value for skewness in range(-0.5,0.5)\n",
    "\n",
    "    Diameter\n",
    "    Height\n",
    "    Whole weight\n",
    "    Shucked weight\n",
    "    Viscera weight    \n",
    "    Shell weight   "
   ]
  },
  {
   "cell_type": "code",
   "execution_count": 21,
   "id": "8469752e",
   "metadata": {},
   "outputs": [],
   "source": [
    "# input variables\n",
    "x=data.drop(['Age'],axis=1)\n",
    "\n",
    "# output variable\n",
    "y=data['Age']"
   ]
  },
  {
   "cell_type": "code",
   "execution_count": 22,
   "id": "61df366f",
   "metadata": {},
   "outputs": [],
   "source": [
    "scaler = StandardScaler()\n",
    "x_scaled = scaler.fit_transform(x)"
   ]
  },
  {
   "cell_type": "code",
   "execution_count": 23,
   "id": "60dce9f1",
   "metadata": {},
   "outputs": [
    {
     "data": {
      "text/html": [
       "<div>\n",
       "<style scoped>\n",
       "    .dataframe tbody tr th:only-of-type {\n",
       "        vertical-align: middle;\n",
       "    }\n",
       "\n",
       "    .dataframe tbody tr th {\n",
       "        vertical-align: top;\n",
       "    }\n",
       "\n",
       "    .dataframe thead th {\n",
       "        text-align: right;\n",
       "    }\n",
       "</style>\n",
       "<table border=\"1\" class=\"dataframe\">\n",
       "  <thead>\n",
       "    <tr style=\"text-align: right;\">\n",
       "      <th></th>\n",
       "      <th>VIF</th>\n",
       "      <th>Input</th>\n",
       "    </tr>\n",
       "  </thead>\n",
       "  <tbody>\n",
       "    <tr>\n",
       "      <th>0</th>\n",
       "      <td>1.010580</td>\n",
       "      <td>Sex</td>\n",
       "    </tr>\n",
       "    <tr>\n",
       "      <th>1</th>\n",
       "      <td>40.771963</td>\n",
       "      <td>Length</td>\n",
       "    </tr>\n",
       "    <tr>\n",
       "      <th>2</th>\n",
       "      <td>41.858341</td>\n",
       "      <td>Diameter</td>\n",
       "    </tr>\n",
       "    <tr>\n",
       "      <th>3</th>\n",
       "      <td>3.560886</td>\n",
       "      <td>Height</td>\n",
       "    </tr>\n",
       "    <tr>\n",
       "      <th>4</th>\n",
       "      <td>109.593589</td>\n",
       "      <td>Whole weight</td>\n",
       "    </tr>\n",
       "    <tr>\n",
       "      <th>5</th>\n",
       "      <td>28.434776</td>\n",
       "      <td>Shucked weight</td>\n",
       "    </tr>\n",
       "    <tr>\n",
       "      <th>6</th>\n",
       "      <td>17.367103</td>\n",
       "      <td>Viscera weight</td>\n",
       "    </tr>\n",
       "    <tr>\n",
       "      <th>7</th>\n",
       "      <td>21.258423</td>\n",
       "      <td>Shell weight</td>\n",
       "    </tr>\n",
       "  </tbody>\n",
       "</table>\n",
       "</div>"
      ],
      "text/plain": [
       "          VIF           Input\n",
       "0    1.010580             Sex\n",
       "1   40.771963          Length\n",
       "2   41.858341        Diameter\n",
       "3    3.560886          Height\n",
       "4  109.593589    Whole weight\n",
       "5   28.434776  Shucked weight\n",
       "6   17.367103  Viscera weight\n",
       "7   21.258423    Shell weight"
      ]
     },
     "execution_count": 23,
     "metadata": {},
     "output_type": "execute_result"
    }
   ],
   "source": [
    "vif=pd.DataFrame()\n",
    "vif['VIF']=[variance_inflation_factor(x_scaled,i)for i in  range(x_scaled.shape[1])]\n",
    "vif['Input']= x.columns\n",
    "vif"
   ]
  },
  {
   "cell_type": "markdown",
   "id": "24c1cda9",
   "metadata": {},
   "source": [
    "Almost all the column have vif greater than 5 so, we remove one column(ie, Whole weight) at a time whom have highest vif value."
   ]
  },
  {
   "cell_type": "code",
   "execution_count": 24,
   "id": "38594d7f",
   "metadata": {},
   "outputs": [],
   "source": [
    "data_new=data.drop('Whole weight',axis=1)"
   ]
  },
  {
   "cell_type": "code",
   "execution_count": 25,
   "id": "a2813849",
   "metadata": {},
   "outputs": [
    {
     "data": {
      "text/html": [
       "<div>\n",
       "<style scoped>\n",
       "    .dataframe tbody tr th:only-of-type {\n",
       "        vertical-align: middle;\n",
       "    }\n",
       "\n",
       "    .dataframe tbody tr th {\n",
       "        vertical-align: top;\n",
       "    }\n",
       "\n",
       "    .dataframe thead th {\n",
       "        text-align: right;\n",
       "    }\n",
       "</style>\n",
       "<table border=\"1\" class=\"dataframe\">\n",
       "  <thead>\n",
       "    <tr style=\"text-align: right;\">\n",
       "      <th></th>\n",
       "      <th>VIF</th>\n",
       "      <th>Input</th>\n",
       "    </tr>\n",
       "  </thead>\n",
       "  <tbody>\n",
       "    <tr>\n",
       "      <th>0</th>\n",
       "      <td>1.010572</td>\n",
       "      <td>Sex</td>\n",
       "    </tr>\n",
       "    <tr>\n",
       "      <th>1</th>\n",
       "      <td>40.764111</td>\n",
       "      <td>Length</td>\n",
       "    </tr>\n",
       "    <tr>\n",
       "      <th>2</th>\n",
       "      <td>41.832745</td>\n",
       "      <td>Diameter</td>\n",
       "    </tr>\n",
       "    <tr>\n",
       "      <th>3</th>\n",
       "      <td>3.559397</td>\n",
       "      <td>Height</td>\n",
       "    </tr>\n",
       "    <tr>\n",
       "      <th>4</th>\n",
       "      <td>8.926868</td>\n",
       "      <td>Shucked weight</td>\n",
       "    </tr>\n",
       "    <tr>\n",
       "      <th>5</th>\n",
       "      <td>10.720717</td>\n",
       "      <td>Viscera weight</td>\n",
       "    </tr>\n",
       "    <tr>\n",
       "      <th>6</th>\n",
       "      <td>7.818251</td>\n",
       "      <td>Shell weight</td>\n",
       "    </tr>\n",
       "  </tbody>\n",
       "</table>\n",
       "</div>"
      ],
      "text/plain": [
       "         VIF           Input\n",
       "0   1.010572             Sex\n",
       "1  40.764111          Length\n",
       "2  41.832745        Diameter\n",
       "3   3.559397          Height\n",
       "4   8.926868  Shucked weight\n",
       "5  10.720717  Viscera weight\n",
       "6   7.818251    Shell weight"
      ]
     },
     "execution_count": 25,
     "metadata": {},
     "output_type": "execute_result"
    }
   ],
   "source": [
    "x=data_new.drop(['Age'],axis=1)\n",
    "y=data_new['Age']\n",
    "\n",
    "scaler = StandardScaler()\n",
    "x_scaled = scaler.fit_transform(x)\n",
    "\n",
    "vif=pd.DataFrame()\n",
    "vif['VIF']=[variance_inflation_factor(x_scaled,i)for i in  range(x_scaled.shape[1])]\n",
    "vif['Input']= x.columns\n",
    "vif"
   ]
  },
  {
   "cell_type": "markdown",
   "id": "f7ae4693",
   "metadata": {},
   "source": [
    "Now remove diameter from data_new set"
   ]
  },
  {
   "cell_type": "code",
   "execution_count": 26,
   "id": "17e05588",
   "metadata": {},
   "outputs": [],
   "source": [
    "data_new=data_new.drop('Diameter',axis=1)"
   ]
  },
  {
   "cell_type": "code",
   "execution_count": 27,
   "id": "f94d8483",
   "metadata": {},
   "outputs": [
    {
     "data": {
      "text/html": [
       "<div>\n",
       "<style scoped>\n",
       "    .dataframe tbody tr th:only-of-type {\n",
       "        vertical-align: middle;\n",
       "    }\n",
       "\n",
       "    .dataframe tbody tr th {\n",
       "        vertical-align: top;\n",
       "    }\n",
       "\n",
       "    .dataframe thead th {\n",
       "        text-align: right;\n",
       "    }\n",
       "</style>\n",
       "<table border=\"1\" class=\"dataframe\">\n",
       "  <thead>\n",
       "    <tr style=\"text-align: right;\">\n",
       "      <th></th>\n",
       "      <th>VIF</th>\n",
       "      <th>Input</th>\n",
       "    </tr>\n",
       "  </thead>\n",
       "  <tbody>\n",
       "    <tr>\n",
       "      <th>0</th>\n",
       "      <td>1.010258</td>\n",
       "      <td>Sex</td>\n",
       "    </tr>\n",
       "    <tr>\n",
       "      <th>1</th>\n",
       "      <td>8.021671</td>\n",
       "      <td>Length</td>\n",
       "    </tr>\n",
       "    <tr>\n",
       "      <th>2</th>\n",
       "      <td>3.511191</td>\n",
       "      <td>Height</td>\n",
       "    </tr>\n",
       "    <tr>\n",
       "      <th>3</th>\n",
       "      <td>8.926406</td>\n",
       "      <td>Shucked weight</td>\n",
       "    </tr>\n",
       "    <tr>\n",
       "      <th>4</th>\n",
       "      <td>10.712981</td>\n",
       "      <td>Viscera weight</td>\n",
       "    </tr>\n",
       "    <tr>\n",
       "      <th>5</th>\n",
       "      <td>7.458796</td>\n",
       "      <td>Shell weight</td>\n",
       "    </tr>\n",
       "  </tbody>\n",
       "</table>\n",
       "</div>"
      ],
      "text/plain": [
       "         VIF           Input\n",
       "0   1.010258             Sex\n",
       "1   8.021671          Length\n",
       "2   3.511191          Height\n",
       "3   8.926406  Shucked weight\n",
       "4  10.712981  Viscera weight\n",
       "5   7.458796    Shell weight"
      ]
     },
     "execution_count": 27,
     "metadata": {},
     "output_type": "execute_result"
    }
   ],
   "source": [
    "x=data_new.drop(['Age'],axis=1)\n",
    "y=data_new['Age']\n",
    "\n",
    "scaler = StandardScaler()\n",
    "x_scaled = scaler.fit_transform(x)\n",
    "\n",
    "vif=pd.DataFrame()\n",
    "vif['VIF']=[variance_inflation_factor(x_scaled,i)for i in  range(x_scaled.shape[1])]\n",
    "vif['Input']= x.columns\n",
    "vif"
   ]
  },
  {
   "cell_type": "markdown",
   "id": "eb2a00b9",
   "metadata": {},
   "source": [
    "Now remove Viscera weight for data_new set"
   ]
  },
  {
   "cell_type": "code",
   "execution_count": 28,
   "id": "c5e703ba",
   "metadata": {},
   "outputs": [
    {
     "data": {
      "text/html": [
       "<div>\n",
       "<style scoped>\n",
       "    .dataframe tbody tr th:only-of-type {\n",
       "        vertical-align: middle;\n",
       "    }\n",
       "\n",
       "    .dataframe tbody tr th {\n",
       "        vertical-align: top;\n",
       "    }\n",
       "\n",
       "    .dataframe thead th {\n",
       "        text-align: right;\n",
       "    }\n",
       "</style>\n",
       "<table border=\"1\" class=\"dataframe\">\n",
       "  <thead>\n",
       "    <tr style=\"text-align: right;\">\n",
       "      <th></th>\n",
       "      <th>Sex</th>\n",
       "      <th>Length</th>\n",
       "      <th>Height</th>\n",
       "      <th>Shucked weight</th>\n",
       "      <th>Shell weight</th>\n",
       "      <th>Age</th>\n",
       "    </tr>\n",
       "  </thead>\n",
       "  <tbody>\n",
       "    <tr>\n",
       "      <th>0</th>\n",
       "      <td>2.0</td>\n",
       "      <td>0.455</td>\n",
       "      <td>0.095</td>\n",
       "      <td>0.2245</td>\n",
       "      <td>0.150</td>\n",
       "      <td>16.5</td>\n",
       "    </tr>\n",
       "    <tr>\n",
       "      <th>1</th>\n",
       "      <td>2.0</td>\n",
       "      <td>0.350</td>\n",
       "      <td>0.090</td>\n",
       "      <td>0.0995</td>\n",
       "      <td>0.070</td>\n",
       "      <td>8.5</td>\n",
       "    </tr>\n",
       "    <tr>\n",
       "      <th>2</th>\n",
       "      <td>0.0</td>\n",
       "      <td>0.530</td>\n",
       "      <td>0.135</td>\n",
       "      <td>0.2565</td>\n",
       "      <td>0.210</td>\n",
       "      <td>10.5</td>\n",
       "    </tr>\n",
       "    <tr>\n",
       "      <th>3</th>\n",
       "      <td>2.0</td>\n",
       "      <td>0.440</td>\n",
       "      <td>0.125</td>\n",
       "      <td>0.2155</td>\n",
       "      <td>0.155</td>\n",
       "      <td>11.5</td>\n",
       "    </tr>\n",
       "    <tr>\n",
       "      <th>4</th>\n",
       "      <td>1.0</td>\n",
       "      <td>0.330</td>\n",
       "      <td>0.080</td>\n",
       "      <td>0.0895</td>\n",
       "      <td>0.055</td>\n",
       "      <td>8.5</td>\n",
       "    </tr>\n",
       "  </tbody>\n",
       "</table>\n",
       "</div>"
      ],
      "text/plain": [
       "   Sex  Length  Height  Shucked weight  Shell weight   Age\n",
       "0  2.0   0.455   0.095          0.2245         0.150  16.5\n",
       "1  2.0   0.350   0.090          0.0995         0.070   8.5\n",
       "2  0.0   0.530   0.135          0.2565         0.210  10.5\n",
       "3  2.0   0.440   0.125          0.2155         0.155  11.5\n",
       "4  1.0   0.330   0.080          0.0895         0.055   8.5"
      ]
     },
     "execution_count": 28,
     "metadata": {},
     "output_type": "execute_result"
    }
   ],
   "source": [
    "data_new=data_new.drop('Viscera weight',axis=1)\n",
    "data_new.head()"
   ]
  },
  {
   "cell_type": "code",
   "execution_count": 29,
   "id": "1ef620fd",
   "metadata": {},
   "outputs": [
    {
     "data": {
      "text/html": [
       "<div>\n",
       "<style scoped>\n",
       "    .dataframe tbody tr th:only-of-type {\n",
       "        vertical-align: middle;\n",
       "    }\n",
       "\n",
       "    .dataframe tbody tr th {\n",
       "        vertical-align: top;\n",
       "    }\n",
       "\n",
       "    .dataframe thead th {\n",
       "        text-align: right;\n",
       "    }\n",
       "</style>\n",
       "<table border=\"1\" class=\"dataframe\">\n",
       "  <thead>\n",
       "    <tr style=\"text-align: right;\">\n",
       "      <th></th>\n",
       "      <th>VIF</th>\n",
       "      <th>Input</th>\n",
       "    </tr>\n",
       "  </thead>\n",
       "  <tbody>\n",
       "    <tr>\n",
       "      <th>0</th>\n",
       "      <td>1.008138</td>\n",
       "      <td>Sex</td>\n",
       "    </tr>\n",
       "    <tr>\n",
       "      <th>1</th>\n",
       "      <td>7.759343</td>\n",
       "      <td>Length</td>\n",
       "    </tr>\n",
       "    <tr>\n",
       "      <th>2</th>\n",
       "      <td>3.491234</td>\n",
       "      <td>Height</td>\n",
       "    </tr>\n",
       "    <tr>\n",
       "      <th>3</th>\n",
       "      <td>6.153591</td>\n",
       "      <td>Shucked weight</td>\n",
       "    </tr>\n",
       "    <tr>\n",
       "      <th>4</th>\n",
       "      <td>6.604550</td>\n",
       "      <td>Shell weight</td>\n",
       "    </tr>\n",
       "  </tbody>\n",
       "</table>\n",
       "</div>"
      ],
      "text/plain": [
       "        VIF           Input\n",
       "0  1.008138             Sex\n",
       "1  7.759343          Length\n",
       "2  3.491234          Height\n",
       "3  6.153591  Shucked weight\n",
       "4  6.604550    Shell weight"
      ]
     },
     "execution_count": 29,
     "metadata": {},
     "output_type": "execute_result"
    }
   ],
   "source": [
    "x=data_new.drop(['Age'],axis=1)\n",
    "y=data_new['Age']\n",
    "\n",
    "scaler = StandardScaler()\n",
    "x_scaled = scaler.fit_transform(x)\n",
    "\n",
    "vif=pd.DataFrame()\n",
    "vif['VIF']=[variance_inflation_factor(x_scaled,i)for i in  range(x_scaled.shape[1])]\n",
    "vif['Input']= x.columns\n",
    "vif"
   ]
  },
  {
   "cell_type": "code",
   "execution_count": null,
   "id": "b7913f08",
   "metadata": {},
   "outputs": [],
   "source": [
    "Now remove Length from data_new set"
   ]
  },
  {
   "cell_type": "code",
   "execution_count": 30,
   "id": "73104533",
   "metadata": {},
   "outputs": [],
   "source": [
    "data_new=data_new.drop('Length',axis=1)"
   ]
  },
  {
   "cell_type": "code",
   "execution_count": 31,
   "id": "c157304e",
   "metadata": {},
   "outputs": [
    {
     "data": {
      "text/html": [
       "<div>\n",
       "<style scoped>\n",
       "    .dataframe tbody tr th:only-of-type {\n",
       "        vertical-align: middle;\n",
       "    }\n",
       "\n",
       "    .dataframe tbody tr th {\n",
       "        vertical-align: top;\n",
       "    }\n",
       "\n",
       "    .dataframe thead th {\n",
       "        text-align: right;\n",
       "    }\n",
       "</style>\n",
       "<table border=\"1\" class=\"dataframe\">\n",
       "  <thead>\n",
       "    <tr style=\"text-align: right;\">\n",
       "      <th></th>\n",
       "      <th>VIF</th>\n",
       "      <th>Input</th>\n",
       "    </tr>\n",
       "  </thead>\n",
       "  <tbody>\n",
       "    <tr>\n",
       "      <th>0</th>\n",
       "      <td>1.006511</td>\n",
       "      <td>Sex</td>\n",
       "    </tr>\n",
       "    <tr>\n",
       "      <th>1</th>\n",
       "      <td>3.139339</td>\n",
       "      <td>Height</td>\n",
       "    </tr>\n",
       "    <tr>\n",
       "      <th>2</th>\n",
       "      <td>4.731688</td>\n",
       "      <td>Shucked weight</td>\n",
       "    </tr>\n",
       "    <tr>\n",
       "      <th>3</th>\n",
       "      <td>5.679316</td>\n",
       "      <td>Shell weight</td>\n",
       "    </tr>\n",
       "  </tbody>\n",
       "</table>\n",
       "</div>"
      ],
      "text/plain": [
       "        VIF           Input\n",
       "0  1.006511             Sex\n",
       "1  3.139339          Height\n",
       "2  4.731688  Shucked weight\n",
       "3  5.679316    Shell weight"
      ]
     },
     "execution_count": 31,
     "metadata": {},
     "output_type": "execute_result"
    }
   ],
   "source": [
    "x=data_new.drop(['Age'],axis=1)\n",
    "y=data_new['Age']\n",
    "\n",
    "scaler = StandardScaler()\n",
    "x_scaled = scaler.fit_transform(x)\n",
    "\n",
    "vif=pd.DataFrame()\n",
    "vif['VIF']=[variance_inflation_factor(x_scaled,i)for i in  range(x_scaled.shape[1])]\n",
    "vif['Input']= x.columns\n",
    "vif"
   ]
  },
  {
   "cell_type": "markdown",
   "id": "fa1274a4",
   "metadata": {},
   "source": [
    "We get the value of VIF greater than 5 so we remove column iteratively but stil give value greater than 5.\n",
    "Now we take the whole data"
   ]
  },
  {
   "cell_type": "code",
   "execution_count": 32,
   "id": "8385088b",
   "metadata": {},
   "outputs": [
    {
     "data": {
      "text/html": [
       "<div>\n",
       "<style scoped>\n",
       "    .dataframe tbody tr th:only-of-type {\n",
       "        vertical-align: middle;\n",
       "    }\n",
       "\n",
       "    .dataframe tbody tr th {\n",
       "        vertical-align: top;\n",
       "    }\n",
       "\n",
       "    .dataframe thead th {\n",
       "        text-align: right;\n",
       "    }\n",
       "</style>\n",
       "<table border=\"1\" class=\"dataframe\">\n",
       "  <thead>\n",
       "    <tr style=\"text-align: right;\">\n",
       "      <th></th>\n",
       "      <th>Sex</th>\n",
       "      <th>Length</th>\n",
       "      <th>Diameter</th>\n",
       "      <th>Height</th>\n",
       "      <th>Whole weight</th>\n",
       "      <th>Shucked weight</th>\n",
       "      <th>Viscera weight</th>\n",
       "      <th>Shell weight</th>\n",
       "      <th>Age</th>\n",
       "    </tr>\n",
       "  </thead>\n",
       "  <tbody>\n",
       "    <tr>\n",
       "      <th>0</th>\n",
       "      <td>2.0</td>\n",
       "      <td>0.455</td>\n",
       "      <td>0.365</td>\n",
       "      <td>0.095</td>\n",
       "      <td>0.5140</td>\n",
       "      <td>0.2245</td>\n",
       "      <td>0.1010</td>\n",
       "      <td>0.150</td>\n",
       "      <td>16.5</td>\n",
       "    </tr>\n",
       "    <tr>\n",
       "      <th>1</th>\n",
       "      <td>2.0</td>\n",
       "      <td>0.350</td>\n",
       "      <td>0.265</td>\n",
       "      <td>0.090</td>\n",
       "      <td>0.2255</td>\n",
       "      <td>0.0995</td>\n",
       "      <td>0.0485</td>\n",
       "      <td>0.070</td>\n",
       "      <td>8.5</td>\n",
       "    </tr>\n",
       "    <tr>\n",
       "      <th>2</th>\n",
       "      <td>0.0</td>\n",
       "      <td>0.530</td>\n",
       "      <td>0.420</td>\n",
       "      <td>0.135</td>\n",
       "      <td>0.6770</td>\n",
       "      <td>0.2565</td>\n",
       "      <td>0.1415</td>\n",
       "      <td>0.210</td>\n",
       "      <td>10.5</td>\n",
       "    </tr>\n",
       "    <tr>\n",
       "      <th>3</th>\n",
       "      <td>2.0</td>\n",
       "      <td>0.440</td>\n",
       "      <td>0.365</td>\n",
       "      <td>0.125</td>\n",
       "      <td>0.5160</td>\n",
       "      <td>0.2155</td>\n",
       "      <td>0.1140</td>\n",
       "      <td>0.155</td>\n",
       "      <td>11.5</td>\n",
       "    </tr>\n",
       "    <tr>\n",
       "      <th>4</th>\n",
       "      <td>1.0</td>\n",
       "      <td>0.330</td>\n",
       "      <td>0.255</td>\n",
       "      <td>0.080</td>\n",
       "      <td>0.2050</td>\n",
       "      <td>0.0895</td>\n",
       "      <td>0.0395</td>\n",
       "      <td>0.055</td>\n",
       "      <td>8.5</td>\n",
       "    </tr>\n",
       "  </tbody>\n",
       "</table>\n",
       "</div>"
      ],
      "text/plain": [
       "   Sex  Length  Diameter  Height  Whole weight  Shucked weight  \\\n",
       "0  2.0   0.455     0.365   0.095        0.5140          0.2245   \n",
       "1  2.0   0.350     0.265   0.090        0.2255          0.0995   \n",
       "2  0.0   0.530     0.420   0.135        0.6770          0.2565   \n",
       "3  2.0   0.440     0.365   0.125        0.5160          0.2155   \n",
       "4  1.0   0.330     0.255   0.080        0.2050          0.0895   \n",
       "\n",
       "   Viscera weight  Shell weight   Age  \n",
       "0          0.1010         0.150  16.5  \n",
       "1          0.0485         0.070   8.5  \n",
       "2          0.1415         0.210  10.5  \n",
       "3          0.1140         0.155  11.5  \n",
       "4          0.0395         0.055   8.5  "
      ]
     },
     "execution_count": 32,
     "metadata": {},
     "output_type": "execute_result"
    }
   ],
   "source": [
    "data.head()"
   ]
  },
  {
   "cell_type": "markdown",
   "id": "7add4696",
   "metadata": {},
   "source": [
    "Remove outliers using zscore technique"
   ]
  },
  {
   "cell_type": "code",
   "execution_count": 33,
   "id": "a1c878a0",
   "metadata": {},
   "outputs": [],
   "source": [
    "x=data.drop(['Age'],axis=1)\n",
    "y=data['Age']"
   ]
  },
  {
   "cell_type": "code",
   "execution_count": 34,
   "id": "a9c836c1",
   "metadata": {},
   "outputs": [
    {
     "name": "stdout",
     "output_type": "stream",
     "text": [
      "(array([  81,  129,  163,  164,  165,  165,  165,  166,  168,  170,  236,\n",
      "        236,  236,  237,  237,  238,  238,  239,  277,  334,  358,  358,\n",
      "        526,  526,  694,  696,  696,  719,  719,  720,  720,  891,  891,\n",
      "        891, 1048, 1051, 1051, 1052, 1193, 1197, 1199, 1202, 1204, 1206,\n",
      "       1206, 1207, 1207, 1207, 1207, 1209, 1209, 1257, 1417, 1417, 1418,\n",
      "       1422, 1426, 1427, 1427, 1427, 1428, 1429, 1429, 1528, 1754, 1756,\n",
      "       1757, 1759, 1761, 1762, 1762, 1762, 1763, 1763, 1763, 1821, 1982,\n",
      "       1986, 1987, 1987, 2051, 2090, 2108, 2114, 2114, 2157, 2161, 2208,\n",
      "       2274, 2334, 2334, 2368, 2381, 2544, 2623, 2624, 2624, 2624, 2625,\n",
      "       2709, 2710, 2710, 2810, 2810, 2811, 2811, 2811, 2862, 2863, 2863,\n",
      "       2863, 3007, 3008, 3148, 3149, 3151, 3188, 3427, 3427, 3427, 3599,\n",
      "       3599, 3628, 3713, 3715, 3715, 3715, 3715, 3800, 3837, 3899, 3899,\n",
      "       3902, 3961, 3962, 3996, 4145, 4148], dtype=int64), array([7, 7, 7, 7, 4, 5, 7, 7, 7, 6, 1, 2, 3, 1, 2, 1, 2, 1, 7, 7, 4, 7,\n",
      "       1, 2, 2, 1, 2, 1, 2, 1, 2, 4, 5, 7, 6, 4, 5, 4, 5, 5, 5, 5, 6, 5,\n",
      "       6, 4, 5, 6, 7, 4, 5, 3, 3, 5, 5, 6, 5, 4, 5, 6, 7, 1, 2, 5, 5, 5,\n",
      "       6, 6, 5, 4, 5, 6, 4, 5, 6, 5, 5, 1, 1, 2, 3, 7, 7, 1, 2, 7, 7, 7,\n",
      "       7, 4, 6, 7, 1, 5, 4, 4, 5, 6, 5, 6, 5, 6, 5, 6, 4, 5, 6, 5, 4, 5,\n",
      "       6, 5, 7, 7, 7, 7, 7, 4, 5, 6, 4, 5, 6, 5, 4, 5, 6, 7, 4, 2, 1, 2,\n",
      "       1, 5, 5, 3, 7, 6], dtype=int64))\n"
     ]
    }
   ],
   "source": [
    "z=np.abs(zscore(x))\n",
    "\n",
    "threshold=3\n",
    "\n",
    "print(np.where(z>3))"
   ]
  },
  {
   "cell_type": "code",
   "execution_count": 35,
   "id": "bc943dfa",
   "metadata": {},
   "outputs": [],
   "source": [
    "data_new=data[(z<3).all(axis=1)]"
   ]
  },
  {
   "cell_type": "code",
   "execution_count": 36,
   "id": "4668ae6a",
   "metadata": {},
   "outputs": [
    {
     "name": "stdout",
     "output_type": "stream",
     "text": [
      "Old data frame: (4177, 9)\n",
      "New data frame: (4084, 9)\n",
      "Total dropped rows: 93\n"
     ]
    }
   ],
   "source": [
    "print(\"Old data frame:\",data.shape)\n",
    "print(\"New data frame:\",data_new.shape)\n",
    "print(\"Total dropped rows:\",data.shape[0]-data_new.shape[0])"
   ]
  },
  {
   "cell_type": "code",
   "execution_count": 37,
   "id": "5867e917",
   "metadata": {},
   "outputs": [
    {
     "name": "stdout",
     "output_type": "stream",
     "text": [
      "2.2264783337323437 %\n"
     ]
    }
   ],
   "source": [
    "loss_percentage=(4177-4084)/4177*100\n",
    "print(loss_percentage,'%')"
   ]
  },
  {
   "cell_type": "markdown",
   "id": "164b9563",
   "metadata": {},
   "source": [
    "There is not much loss on removing an outliers so we remove them"
   ]
  },
  {
   "cell_type": "code",
   "execution_count": 38,
   "id": "e7c6e84f",
   "metadata": {},
   "outputs": [
    {
     "data": {
      "image/png": "[encoded data removed]",
      "text/plain": [
       "<Figure size 1440x1800 with 8 Axes>"
      ]
     },
     "metadata": {},
     "output_type": "display_data"
    }
   ],
   "source": [
    "df=data_new.drop(columns=['Sex'])\n",
    "\n",
    "plt.figure(figsize=(20,25),facecolor = 'blue')\n",
    "plotnumber =1\n",
    "\n",
    "for column in df:\n",
    "    if plotnumber <=8:\n",
    "        ax = plt.subplot(3,3,plotnumber)\n",
    "        sns.distplot(df[column])\n",
    "        plt.xlabel(column,fontsize=20)\n",
    "        \n",
    "    plotnumber+=1\n",
    "plt.show()    "
   ]
  },
  {
   "cell_type": "code",
   "execution_count": null,
   "id": "0a08cf67",
   "metadata": {},
   "outputs": [],
   "source": [
    "Now the data set is better than previous data set. Beacause height have two outlies at large gap after removing it ghraph \n",
    "comes into normaly distributed"
   ]
  },
  {
   "cell_type": "code",
   "execution_count": 39,
   "id": "3326650e",
   "metadata": {},
   "outputs": [
    {
     "data": {
      "text/html": [
       "<div>\n",
       "<style scoped>\n",
       "    .dataframe tbody tr th:only-of-type {\n",
       "        vertical-align: middle;\n",
       "    }\n",
       "\n",
       "    .dataframe tbody tr th {\n",
       "        vertical-align: top;\n",
       "    }\n",
       "\n",
       "    .dataframe thead th {\n",
       "        text-align: right;\n",
       "    }\n",
       "</style>\n",
       "<table border=\"1\" class=\"dataframe\">\n",
       "  <thead>\n",
       "    <tr style=\"text-align: right;\">\n",
       "      <th></th>\n",
       "      <th>Sex</th>\n",
       "      <th>Length</th>\n",
       "      <th>Diameter</th>\n",
       "      <th>Height</th>\n",
       "      <th>Whole weight</th>\n",
       "      <th>Shucked weight</th>\n",
       "      <th>Viscera weight</th>\n",
       "      <th>Shell weight</th>\n",
       "      <th>Age</th>\n",
       "    </tr>\n",
       "  </thead>\n",
       "  <tbody>\n",
       "    <tr>\n",
       "      <th>0</th>\n",
       "      <td>2.0</td>\n",
       "      <td>0.455</td>\n",
       "      <td>0.365</td>\n",
       "      <td>0.095</td>\n",
       "      <td>0.5140</td>\n",
       "      <td>0.2245</td>\n",
       "      <td>0.1010</td>\n",
       "      <td>0.150</td>\n",
       "      <td>16.5</td>\n",
       "    </tr>\n",
       "    <tr>\n",
       "      <th>1</th>\n",
       "      <td>2.0</td>\n",
       "      <td>0.350</td>\n",
       "      <td>0.265</td>\n",
       "      <td>0.090</td>\n",
       "      <td>0.2255</td>\n",
       "      <td>0.0995</td>\n",
       "      <td>0.0485</td>\n",
       "      <td>0.070</td>\n",
       "      <td>8.5</td>\n",
       "    </tr>\n",
       "    <tr>\n",
       "      <th>2</th>\n",
       "      <td>0.0</td>\n",
       "      <td>0.530</td>\n",
       "      <td>0.420</td>\n",
       "      <td>0.135</td>\n",
       "      <td>0.6770</td>\n",
       "      <td>0.2565</td>\n",
       "      <td>0.1415</td>\n",
       "      <td>0.210</td>\n",
       "      <td>10.5</td>\n",
       "    </tr>\n",
       "    <tr>\n",
       "      <th>3</th>\n",
       "      <td>2.0</td>\n",
       "      <td>0.440</td>\n",
       "      <td>0.365</td>\n",
       "      <td>0.125</td>\n",
       "      <td>0.5160</td>\n",
       "      <td>0.2155</td>\n",
       "      <td>0.1140</td>\n",
       "      <td>0.155</td>\n",
       "      <td>11.5</td>\n",
       "    </tr>\n",
       "    <tr>\n",
       "      <th>4</th>\n",
       "      <td>1.0</td>\n",
       "      <td>0.330</td>\n",
       "      <td>0.255</td>\n",
       "      <td>0.080</td>\n",
       "      <td>0.2050</td>\n",
       "      <td>0.0895</td>\n",
       "      <td>0.0395</td>\n",
       "      <td>0.055</td>\n",
       "      <td>8.5</td>\n",
       "    </tr>\n",
       "  </tbody>\n",
       "</table>\n",
       "</div>"
      ],
      "text/plain": [
       "   Sex  Length  Diameter  Height  Whole weight  Shucked weight  \\\n",
       "0  2.0   0.455     0.365   0.095        0.5140          0.2245   \n",
       "1  2.0   0.350     0.265   0.090        0.2255          0.0995   \n",
       "2  0.0   0.530     0.420   0.135        0.6770          0.2565   \n",
       "3  2.0   0.440     0.365   0.125        0.5160          0.2155   \n",
       "4  1.0   0.330     0.255   0.080        0.2050          0.0895   \n",
       "\n",
       "   Viscera weight  Shell weight   Age  \n",
       "0          0.1010         0.150  16.5  \n",
       "1          0.0485         0.070   8.5  \n",
       "2          0.1415         0.210  10.5  \n",
       "3          0.1140         0.155  11.5  \n",
       "4          0.0395         0.055   8.5  "
      ]
     },
     "execution_count": 39,
     "metadata": {},
     "output_type": "execute_result"
    }
   ],
   "source": [
    "data_new.head()"
   ]
  },
  {
   "cell_type": "code",
   "execution_count": 40,
   "id": "2d782d06",
   "metadata": {},
   "outputs": [
    {
     "data": {
      "text/plain": [
       "(4084, 9)"
      ]
     },
     "execution_count": 40,
     "metadata": {},
     "output_type": "execute_result"
    }
   ],
   "source": [
    "data_new.shape"
   ]
  },
  {
   "cell_type": "markdown",
   "id": "3aefd390",
   "metadata": {},
   "source": [
    "#                                           Model Testing"
   ]
  },
  {
   "cell_type": "code",
   "execution_count": 41,
   "id": "b46ba257",
   "metadata": {},
   "outputs": [],
   "source": [
    "# input variables\n",
    "x=data_new.drop(['Age'],axis=1)\n",
    "\n",
    "# output variable\n",
    "y=data_new['Age']"
   ]
  },
  {
   "cell_type": "code",
   "execution_count": 42,
   "id": "99af7d58",
   "metadata": {},
   "outputs": [],
   "source": [
    "scaler = StandardScaler()\n",
    "x_scaled = scaler.fit_transform(x)"
   ]
  },
  {
   "cell_type": "markdown",
   "id": "86c288bb",
   "metadata": {},
   "source": [
    "                                          Linear Regression"
   ]
  },
  {
   "cell_type": "code",
   "execution_count": 67,
   "id": "7f631633",
   "metadata": {},
   "outputs": [],
   "source": [
    "lr=LinearRegression()"
   ]
  },
  {
   "cell_type": "code",
   "execution_count": 68,
   "id": "71c33776",
   "metadata": {},
   "outputs": [
    {
     "name": "stdout",
     "output_type": "stream",
     "text": [
      "The model perform very well\n",
      "random state 24\n",
      "Training accuracy score: 52.4\n",
      "Testing accuracy score: 52.4\n",
      "\n",
      "\n",
      "The model perform very well\n",
      "random state 275\n",
      "Training accuracy score: 52.5\n",
      "Testing accuracy score: 52.5\n",
      "\n",
      "\n",
      "The model perform very well\n",
      "random state 297\n",
      "Training accuracy score: 52.5\n",
      "Testing accuracy score: 52.5\n",
      "\n",
      "\n",
      "The model perform very well\n",
      "random state 311\n",
      "Training accuracy score: 52.5\n",
      "Testing accuracy score: 52.5\n",
      "\n",
      "\n",
      "The model perform very well\n",
      "random state 366\n",
      "Training accuracy score: 52.5\n",
      "Testing accuracy score: 52.5\n",
      "\n",
      "\n",
      "The model perform very well\n",
      "random state 430\n",
      "Training accuracy score: 52.4\n",
      "Testing accuracy score: 52.4\n",
      "\n",
      "\n",
      "The model perform very well\n",
      "random state 482\n",
      "Training accuracy score: 52.5\n",
      "Testing accuracy score: 52.5\n",
      "\n",
      "\n",
      "The model perform very well\n",
      "random state 508\n",
      "Training accuracy score: 52.5\n",
      "Testing accuracy score: 52.5\n",
      "\n",
      "\n",
      "The model perform very well\n",
      "random state 547\n",
      "Training accuracy score: 52.5\n",
      "Testing accuracy score: 52.5\n",
      "\n",
      "\n",
      "The model perform very well\n",
      "random state 562\n",
      "Training accuracy score: 52.5\n",
      "Testing accuracy score: 52.5\n",
      "\n",
      "\n",
      "The model perform very well\n",
      "random state 659\n",
      "Training accuracy score: 52.5\n",
      "Testing accuracy score: 52.5\n",
      "\n",
      "\n",
      "The model perform very well\n",
      "random state 759\n",
      "Training accuracy score: 52.5\n",
      "Testing accuracy score: 52.5\n",
      "\n",
      "\n",
      "The model perform very well\n",
      "random state 840\n",
      "Training accuracy score: 52.4\n",
      "Testing accuracy score: 52.4\n",
      "\n",
      "\n",
      "The model perform very well\n",
      "random state 856\n",
      "Training accuracy score: 52.5\n",
      "Testing accuracy score: 52.5\n",
      "\n",
      "\n",
      "The model perform very well\n",
      "random state 923\n",
      "Training accuracy score: 52.5\n",
      "Testing accuracy score: 52.5\n",
      "\n",
      "\n",
      "The model perform very well\n",
      "random state 973\n",
      "Training accuracy score: 52.5\n",
      "Testing accuracy score: 52.5\n",
      "\n",
      "\n"
     ]
    }
   ],
   "source": [
    "for i in range(0,1000):\n",
    "    x_train,x_test,y_train,y_test = train_test_split(x_scaled,y,test_size = 0.20,random_state = i)\n",
    "    lr.fit(x_train,y_train)\n",
    "    pred_train=lr.predict(x_train)\n",
    "    pred_test=lr.predict(x_test)\n",
    "    if round(r2_score(y_train,pred_train)*100,1)==round(r2_score(y_test,pred_test)*100,1):\n",
    "        print(\"The model perform very well\")\n",
    "        print(\"random state\",i)\n",
    "        print(\"Training accuracy score:\",round(r2_score(y_train,pred_train)*100,1))\n",
    "        print(\"Testing accuracy score:\",round(r2_score(y_test,pred_test)*100,1))\n",
    "        print('\\n')"
   ]
  },
  {
   "cell_type": "code",
   "execution_count": 69,
   "id": "5439a51f",
   "metadata": {},
   "outputs": [],
   "source": [
    "x_train,x_test,y_train,y_test = train_test_split(x_scaled,y,test_size = 0.20,random_state =973)"
   ]
  },
  {
   "cell_type": "code",
   "execution_count": 70,
   "id": "608f7ccb",
   "metadata": {},
   "outputs": [
    {
     "name": "stdout",
     "output_type": "stream",
     "text": [
      "R square score for testing 52.66853068576136\n"
     ]
    }
   ],
   "source": [
    "pred_test=lr.predict(x_test)\n",
    "\n",
    "accuracy=r2_score(y_test,pred_test)*100\n",
    "print(\"R square score for testing\",accuracy)"
   ]
  },
  {
   "cell_type": "code",
   "execution_count": 71,
   "id": "a845e60e",
   "metadata": {},
   "outputs": [
    {
     "name": "stdout",
     "output_type": "stream",
     "text": [
      "At cross fold 2 the cv score is 51.87016275534128\n",
      "\n",
      "\n",
      "At cross fold 3 the cv score is 49.4109742147005\n",
      "\n",
      "\n",
      "At cross fold 4 the cv score is 40.5983962731066\n",
      "\n",
      "\n",
      "At cross fold 5 the cv score is 39.23068500495224\n",
      "\n",
      "\n",
      "At cross fold 6 the cv score is 40.281564430874276\n",
      "\n",
      "\n",
      "At cross fold 7 the cv score is 42.887901813681076\n",
      "\n",
      "\n",
      "At cross fold 8 the cv score is 36.10612957679924\n",
      "\n",
      "\n",
      "At cross fold 9 the cv score is 40.29457027984499\n",
      "\n",
      "\n"
     ]
    }
   ],
   "source": [
    "for j in range(2,10):\n",
    "    cv_score=cross_val_score(lr,x_scaled,y,cv=j)\n",
    "    cv_mean=cv_score.mean()*100\n",
    "    print(f\"At cross fold {j} the cv score is {cv_mean}\")\n",
    "    print(\"\\n\")"
   ]
  },
  {
   "cell_type": "code",
   "execution_count": 72,
   "id": "eaf54663",
   "metadata": {},
   "outputs": [
    {
     "name": "stdout",
     "output_type": "stream",
     "text": [
      "cross val score: 51.87016275534128\n"
     ]
    }
   ],
   "source": [
    "lrscore=cross_val_score(lr,x_scaled,y,cv=2)\n",
    "lrc=lrscore.mean()\n",
    "print('cross val score:',lrc*100)"
   ]
  },
  {
   "cell_type": "code",
   "execution_count": 73,
   "id": "cc2276e8",
   "metadata": {},
   "outputs": [
    {
     "name": "stdout",
     "output_type": "stream",
     "text": [
      "Mean absolute error: 1.5883452708199273\n",
      "Mean square error: 4.624988309866042\n",
      "Root mean square error: 2.150578598858001\n"
     ]
    }
   ],
   "source": [
    "mae=mean_absolute_error(y_test,pred_test)\n",
    "mse=mean_squared_error(y_test,pred_test)\n",
    "rmse=np.sqrt(mean_squared_error(y_test,pred_test))\n",
    "\n",
    "print(\"Mean absolute error:\",mae)\n",
    "print(\"Mean square error:\",mse)\n",
    "print(\"Root mean square error:\",rmse)"
   ]
  },
  {
   "cell_type": "markdown",
   "id": "4c47caf5",
   "metadata": {},
   "source": [
    "                                     Decission Tree Regressor"
   ]
  },
  {
   "cell_type": "code",
   "execution_count": 51,
   "id": "958cb70f",
   "metadata": {},
   "outputs": [],
   "source": [
    "dtr=DecisionTreeRegressor()"
   ]
  },
  {
   "cell_type": "code",
   "execution_count": 52,
   "id": "7e41d7fd",
   "metadata": {},
   "outputs": [
    {
     "data": {
      "text/plain": [
       "DecisionTreeRegressor()"
      ]
     },
     "execution_count": 52,
     "metadata": {},
     "output_type": "execute_result"
    }
   ],
   "source": [
    "dtr.fit(x_train,y_train)"
   ]
  },
  {
   "cell_type": "code",
   "execution_count": 54,
   "id": "b07bb10e",
   "metadata": {},
   "outputs": [
    {
     "name": "stdout",
     "output_type": "stream",
     "text": [
      "R square score for testing 20.94752512894106\n",
      "cross val score: 6.223491080026239\n"
     ]
    }
   ],
   "source": [
    "pred_test=dtr.predict(x_test)\n",
    "accuracy=r2_score(y_test,pred_test)*100\n",
    "print(\"R square score for testing\",accuracy)\n",
    "\n",
    "dtrscore=cross_val_score(dtr,x_scaled,y,cv=2)\n",
    "dtrc=dtrscore.mean()\n",
    "print('cross val score:',dtrc*100)"
   ]
  },
  {
   "cell_type": "code",
   "execution_count": 55,
   "id": "55a615f1",
   "metadata": {},
   "outputs": [
    {
     "name": "stdout",
     "output_type": "stream",
     "text": [
      "Mean absolute error: 1.981640146878825\n",
      "Mean square error: 7.724602203182375\n",
      "Root mean square error: 2.779316859082889\n"
     ]
    }
   ],
   "source": [
    "mae=mean_absolute_error(y_test,pred_test)\n",
    "mse=mean_squared_error(y_test,pred_test)\n",
    "rmse=np.sqrt(mean_squared_error(y_test,pred_test))\n",
    "\n",
    "print(\"Mean absolute error:\",mae)\n",
    "print(\"Mean square error:\",mse)\n",
    "print(\"Root mean square error:\",rmse)"
   ]
  },
  {
   "cell_type": "markdown",
   "id": "f33b2b45",
   "metadata": {},
   "source": [
    "                              Random Forest Regressor"
   ]
  },
  {
   "cell_type": "code",
   "execution_count": 56,
   "id": "23dda206",
   "metadata": {},
   "outputs": [],
   "source": [
    "rfr=RandomForestRegressor()"
   ]
  },
  {
   "cell_type": "code",
   "execution_count": 57,
   "id": "7f3e4e02",
   "metadata": {},
   "outputs": [
    {
     "data": {
      "text/plain": [
       "RandomForestRegressor()"
      ]
     },
     "execution_count": 57,
     "metadata": {},
     "output_type": "execute_result"
    }
   ],
   "source": [
    "rfr.fit(x_train,y_train)"
   ]
  },
  {
   "cell_type": "code",
   "execution_count": 58,
   "id": "56f1970a",
   "metadata": {},
   "outputs": [
    {
     "name": "stdout",
     "output_type": "stream",
     "text": [
      "R square score for testing 55.3573989583525\n",
      "cross val score: 52.09791820088287\n"
     ]
    }
   ],
   "source": [
    "pred_test=rfr.predict(x_test)\n",
    "accuracy=r2_score(y_test,pred_test)*100\n",
    "print(\"R square score for testing\",accuracy)\n",
    "\n",
    "rfrscore=cross_val_score(rfr,x_scaled,y,cv=2)\n",
    "rfrc=rfrscore.mean()\n",
    "print('cross val score:',rfrc*100)"
   ]
  },
  {
   "cell_type": "code",
   "execution_count": 59,
   "id": "f8ae39d5",
   "metadata": {},
   "outputs": [
    {
     "name": "stdout",
     "output_type": "stream",
     "text": [
      "Mean absolute error: 1.482949816401469\n",
      "Mean square error: 4.3622458996328035\n",
      "Root mean square error: 2.088599027968941\n"
     ]
    }
   ],
   "source": [
    "mae=mean_absolute_error(y_test,pred_test)\n",
    "mse=mean_squared_error(y_test,pred_test)\n",
    "rmse=np.sqrt(mean_squared_error(y_test,pred_test))\n",
    "\n",
    "print(\"Mean absolute error:\",mae)\n",
    "print(\"Mean square error:\",mse)\n",
    "print(\"Root mean square error:\",rmse)"
   ]
  },
  {
   "cell_type": "markdown",
   "id": "cc8f1569",
   "metadata": {},
   "source": [
    "                                 AdaBoostRegressor"
   ]
  },
  {
   "cell_type": "code",
   "execution_count": 60,
   "id": "5620a84d",
   "metadata": {},
   "outputs": [],
   "source": [
    "ada= AdaBoostRegressor()"
   ]
  },
  {
   "cell_type": "code",
   "execution_count": 61,
   "id": "ce4cf49d",
   "metadata": {},
   "outputs": [
    {
     "data": {
      "text/plain": [
       "AdaBoostRegressor()"
      ]
     },
     "execution_count": 61,
     "metadata": {},
     "output_type": "execute_result"
    }
   ],
   "source": [
    "ada.fit(x_train,y_train)"
   ]
  },
  {
   "cell_type": "code",
   "execution_count": 62,
   "id": "81c13808",
   "metadata": {},
   "outputs": [
    {
     "name": "stdout",
     "output_type": "stream",
     "text": [
      "R square score for testing 22.71033192770825\n",
      "cross val score: 30.697165679360804\n"
     ]
    }
   ],
   "source": [
    "pred_test=ada.predict(x_test)\n",
    "accuracy=r2_score(y_test,pred_test)*100\n",
    "print(\"R square score for testing\",accuracy)\n",
    "\n",
    "adascore=cross_val_score(ada,x_scaled,y,cv=2)\n",
    "adac=adascore.mean()\n",
    "print('cross val score:',adac*100)"
   ]
  },
  {
   "cell_type": "code",
   "execution_count": 63,
   "id": "951fec69",
   "metadata": {},
   "outputs": [
    {
     "name": "stdout",
     "output_type": "stream",
     "text": [
      "Mean absolute error: 2.3650551638371686\n",
      "Mean square error: 7.552349768280718\n",
      "Root mean square error: 2.748153883660942\n"
     ]
    }
   ],
   "source": [
    "mae=mean_absolute_error(y_test,pred_test)\n",
    "mse=mean_squared_error(y_test,pred_test)\n",
    "rmse=np.sqrt(mean_squared_error(y_test,pred_test))\n",
    "\n",
    "print(\"Mean absolute error:\",mae)\n",
    "print(\"Mean square error:\",mse)\n",
    "print(\"Root mean square error:\",rmse)"
   ]
  },
  {
   "cell_type": "code",
   "execution_count": null,
   "id": "b889cd11",
   "metadata": {},
   "outputs": [],
   "source": [
    "                                Gradient Boosting Regressor"
   ]
  },
  {
   "cell_type": "code",
   "execution_count": 64,
   "id": "e4bb48a4",
   "metadata": {},
   "outputs": [],
   "source": [
    "gb= GradientBoostingRegressor()"
   ]
  },
  {
   "cell_type": "code",
   "execution_count": 65,
   "id": "0807120c",
   "metadata": {},
   "outputs": [
    {
     "data": {
      "text/plain": [
       "GradientBoostingRegressor()"
      ]
     },
     "execution_count": 65,
     "metadata": {},
     "output_type": "execute_result"
    }
   ],
   "source": [
    "gb.fit(x_train,y_train)"
   ]
  },
  {
   "cell_type": "code",
   "execution_count": 66,
   "id": "e6fb6411",
   "metadata": {},
   "outputs": [
    {
     "name": "stdout",
     "output_type": "stream",
     "text": [
      "R square score 55.60364946467824\n",
      "cross val score: 30.697165679360804\n"
     ]
    }
   ],
   "source": [
    "pred_test=gb.predict(x_test)\n",
    "accuracy=r2_score(y_test,pred_test)*100\n",
    "print(\"R square score\",accuracy)\n",
    "\n",
    "gbscore=cross_val_score(gb,x,y,cv=2)\n",
    "gbc=adascore.mean()\n",
    "print('cross val score:',gbc*100)"
   ]
  },
  {
   "cell_type": "code",
   "execution_count": null,
   "id": "7bb0bbdf",
   "metadata": {},
   "outputs": [],
   "source": [
    "The value of r2 score and cv for the 5 machine learning model are:\n",
    "    \n",
    "Linear Regression\n",
    "     r2_score: 52.66\n",
    "        cv   : 51.87\n",
    "            \n",
    "Decission Tree Regressor\n",
    "     r2_score: 20.94\n",
    "        cv   : 6.22\n",
    "            \n",
    "Random Forest Regressor\n",
    "     r2_score: 55.35\n",
    "        cv   : 51.07\n",
    "            \n",
    "AdaBoostRegressor\n",
    "     r2_score: 22.71\n",
    "        cv   : 30.69\n",
    "            \n",
    "Gradient Boosting Regressor\n",
    "     r2_score: 55.60\n",
    "        cv   : 30.69\n",
    "            \n",
    "Linear regression and Random forest regressor gives better r2_score and cross validation score. But Linear regression has least\n",
    "differnce,so we select it."
   ]
  },
  {
   "cell_type": "markdown",
   "id": "0ce3eea2",
   "metadata": {},
   "source": [
    "#                                          MODELING OF LINEAR REGRESSION"
   ]
  },
  {
   "cell_type": "code",
   "execution_count": null,
   "id": "3235af70",
   "metadata": {},
   "outputs": [],
   "source": [
    "                                        Regularization"
   ]
  },
  {
   "cell_type": "code",
   "execution_count": 74,
   "id": "7d2996ba",
   "metadata": {},
   "outputs": [],
   "source": [
    "from sklearn.linear_model import Lasso"
   ]
  },
  {
   "cell_type": "code",
   "execution_count": 75,
   "id": "d16b75f3",
   "metadata": {},
   "outputs": [
    {
     "name": "stdout",
     "output_type": "stream",
     "text": [
      "{'alpha': 0.0001, 'random_state': 0}\n"
     ]
    }
   ],
   "source": [
    "parameters = {'alpha':[.0001,.001,.01,.1,1,10],'random_state':list(range(0,10))}\n",
    "ls=Lasso()\n",
    "clf=GridSearchCV(ls,parameters)\n",
    "clf.fit(x_train,y_train)\n",
    "\n",
    "print(clf.best_params_)"
   ]
  },
  {
   "cell_type": "code",
   "execution_count": 76,
   "id": "fc6a37d8",
   "metadata": {},
   "outputs": [
    {
     "name": "stdout",
     "output_type": "stream",
     "text": [
      "r2_score 52.533416421474534\n",
      "cv_score 51.8721063875724\n"
     ]
    }
   ],
   "source": [
    "ls=Lasso(alpha=0.0001,random_state=0)\n",
    "ls.fit(x_train,y_train)\n",
    "ls.score(x_train,y_train)\n",
    "pred_ls=ls.predict(x_test)\n",
    "\n",
    "lss = r2_score(y_test,pred_ls)*100\n",
    "print(\"r2_score\",lss)\n",
    "\n",
    "cv_score=cross_val_score(ls,x_scaled,y,cv=2)\n",
    "cv_mean=cv_score.mean()*100\n",
    "print(\"cv_score\",cv_mean)"
   ]
  },
  {
   "cell_type": "markdown",
   "id": "f120e21e",
   "metadata": {},
   "source": [
    "Predicted value of R2_score of linear regression is 52.66% and after regularization we get 52.53% which is little difference.\n",
    "But the cv_score of both the time are same which is 51.87%"
   ]
  },
  {
   "cell_type": "markdown",
   "id": "8544a3b9",
   "metadata": {},
   "source": [
    "                      Plot a graph b/w actual and predicted value"
   ]
  },
  {
   "cell_type": "code",
   "execution_count": 78,
   "id": "28806d64",
   "metadata": {},
   "outputs": [
    {
     "data": {
      "image/png": "[encoded data removed]",
      "text/plain": [
       "<Figure size 576x360 with 1 Axes>"
      ]
     },
     "metadata": {
      "needs_background": "light"
     },
     "output_type": "display_data"
    }
   ],
   "source": [
    "plt.figure(figsize=(8,5))\n",
    "plt.scatter(y_test,pred_test,color='red')\n",
    "plt.plot(y_test,y_test,color='blue')\n",
    "plt.xlabel('Actual values')\n",
    "plt.ylabel('Predicted values')\n",
    "plt.title('Linear Regression')                                                                                \n",
    "plt.show()"
   ]
  },
  {
   "cell_type": "code",
   "execution_count": null,
   "id": "d674c63c",
   "metadata": {},
   "outputs": [],
   "source": [
    "Accuracy score for our model is 52%"
   ]
  },
  {
   "cell_type": "code",
   "execution_count": 83,
   "id": "7c17adfa",
   "metadata": {},
   "outputs": [],
   "source": [
    "filename='age.pkl'\n",
    "pickle.dump(lr,open(filename,'wb'))"
   ]
  },
  {
   "cell_type": "code",
   "execution_count": 85,
   "id": "08fd4450",
   "metadata": {},
   "outputs": [
    {
     "name": "stdout",
     "output_type": "stream",
     "text": [
      "0.5266853068576136\n"
     ]
    }
   ],
   "source": [
    "loaded_model=pickle.load(open('age.pkl','rb'))\n",
    "result=loaded_model.score(x_test,y_test)\n",
    "print(result)"
   ]
  },
  {
   "cell_type": "markdown",
   "id": "5972916c",
   "metadata": {},
   "source": [
    "                                   Conclusion"
   ]
  },
  {
   "cell_type": "code",
   "execution_count": 89,
   "id": "9ec8f9c8",
   "metadata": {},
   "outputs": [
    {
     "data": {
      "text/html": [
       "<div>\n",
       "<style scoped>\n",
       "    .dataframe tbody tr th:only-of-type {\n",
       "        vertical-align: middle;\n",
       "    }\n",
       "\n",
       "    .dataframe tbody tr th {\n",
       "        vertical-align: top;\n",
       "    }\n",
       "\n",
       "    .dataframe thead th {\n",
       "        text-align: right;\n",
       "    }\n",
       "</style>\n",
       "<table border=\"1\" class=\"dataframe\">\n",
       "  <thead>\n",
       "    <tr style=\"text-align: right;\">\n",
       "      <th></th>\n",
       "      <th>0</th>\n",
       "      <th>1</th>\n",
       "      <th>2</th>\n",
       "      <th>3</th>\n",
       "      <th>4</th>\n",
       "      <th>5</th>\n",
       "      <th>6</th>\n",
       "      <th>7</th>\n",
       "      <th>8</th>\n",
       "      <th>9</th>\n",
       "      <th>...</th>\n",
       "      <th>807</th>\n",
       "      <th>808</th>\n",
       "      <th>809</th>\n",
       "      <th>810</th>\n",
       "      <th>811</th>\n",
       "      <th>812</th>\n",
       "      <th>813</th>\n",
       "      <th>814</th>\n",
       "      <th>815</th>\n",
       "      <th>816</th>\n",
       "    </tr>\n",
       "  </thead>\n",
       "  <tbody>\n",
       "    <tr>\n",
       "      <th>Predicted value</th>\n",
       "      <td>10.520813</td>\n",
       "      <td>11.160223</td>\n",
       "      <td>11.837367</td>\n",
       "      <td>11.890728</td>\n",
       "      <td>12.349134</td>\n",
       "      <td>11.696691</td>\n",
       "      <td>15.418869</td>\n",
       "      <td>13.706887</td>\n",
       "      <td>8.678543</td>\n",
       "      <td>14.067285</td>\n",
       "      <td>...</td>\n",
       "      <td>12.009072</td>\n",
       "      <td>13.693289</td>\n",
       "      <td>12.221222</td>\n",
       "      <td>9.572840</td>\n",
       "      <td>10.078242</td>\n",
       "      <td>9.621570</td>\n",
       "      <td>11.816224</td>\n",
       "      <td>11.181403</td>\n",
       "      <td>9.405821</td>\n",
       "      <td>13.771635</td>\n",
       "    </tr>\n",
       "    <tr>\n",
       "      <th>Actual value</th>\n",
       "      <td>10.493842</td>\n",
       "      <td>11.178456</td>\n",
       "      <td>11.923547</td>\n",
       "      <td>11.930913</td>\n",
       "      <td>12.488312</td>\n",
       "      <td>11.588321</td>\n",
       "      <td>15.392251</td>\n",
       "      <td>13.695385</td>\n",
       "      <td>8.661748</td>\n",
       "      <td>13.977451</td>\n",
       "      <td>...</td>\n",
       "      <td>11.965550</td>\n",
       "      <td>13.647145</td>\n",
       "      <td>12.183471</td>\n",
       "      <td>9.486852</td>\n",
       "      <td>10.099603</td>\n",
       "      <td>9.623179</td>\n",
       "      <td>11.780549</td>\n",
       "      <td>11.194982</td>\n",
       "      <td>9.372245</td>\n",
       "      <td>13.694491</td>\n",
       "    </tr>\n",
       "  </tbody>\n",
       "</table>\n",
       "<p>2 rows × 817 columns</p>\n",
       "</div>"
      ],
      "text/plain": [
       "                       0          1          2          3          4    \\\n",
       "Predicted value  10.520813  11.160223  11.837367  11.890728  12.349134   \n",
       "Actual value     10.493842  11.178456  11.923547  11.930913  12.488312   \n",
       "\n",
       "                       5          6          7         8          9    ...  \\\n",
       "Predicted value  11.696691  15.418869  13.706887  8.678543  14.067285  ...   \n",
       "Actual value     11.588321  15.392251  13.695385  8.661748  13.977451  ...   \n",
       "\n",
       "                       807        808        809       810        811  \\\n",
       "Predicted value  12.009072  13.693289  12.221222  9.572840  10.078242   \n",
       "Actual value     11.965550  13.647145  12.183471  9.486852  10.099603   \n",
       "\n",
       "                      812        813        814       815        816  \n",
       "Predicted value  9.621570  11.816224  11.181403  9.405821  13.771635  \n",
       "Actual value     9.623179  11.780549  11.194982  9.372245  13.694491  \n",
       "\n",
       "[2 rows x 817 columns]"
      ]
     },
     "execution_count": 89,
     "metadata": {},
     "output_type": "execute_result"
    }
   ],
   "source": [
    "Prediction=pd.DataFrame([loaded_model.predict(x_test)[:],pred_ls[:]],index=[\"Predicted value\",\"Actual value\"])\n",
    "Prediction"
   ]
  }
 ],
 "metadata": {
  "kernelspec": {
   "display_name": "Python 3 (ipykernel)",
   "language": "python",
   "name": "python3"
  },
  "language_info": {
   "codemirror_mode": {
    "name": "ipython",
    "version": 3
   },
   "file_extension": ".py",
   "mimetype": "text/x-python",
   "name": "python",
   "nbconvert_exporter": "python",
   "pygments_lexer": "ipython3",
   "version": "3.9.7"
  }
 },
 "nbformat": 4,
 "nbformat_minor": 5
}
