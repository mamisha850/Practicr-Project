{
 "cells": [
  {
   "cell_type": "markdown",
   "id": "cb675c9b",
   "metadata": {},
   "source": [
    "# Advertising Sales Channel Prediction\n",
    "\n",
    "Feature variables:\n",
    "\n",
    "   * Unnamed 0\n",
    "   * TV\n",
    "   * radio\n",
    "   * newspaper\n",
    "   \n",
    "Target variable:\n",
    "\n",
    "   * sales"
   ]
  },
  {
   "cell_type": "code",
   "execution_count": 65,
   "id": "8c1d7559",
   "metadata": {},
   "outputs": [],
   "source": [
    "import pandas as pd\n",
    "import numpy as np\n",
    "import seaborn as sns\n",
    "import matplotlib.pyplot as plt\n",
    "from statsmodels.stats.outliers_influence import variance_inflation_factor\n",
    "from sklearn.preprocessing import OrdinalEncoder\n",
    "from scipy.stats import zscore\n",
    "from sklearn.preprocessing import power_transform\n",
    "from sklearn.preprocessing import StandardScaler\n",
    "from sklearn.model_selection import train_test_split, RandomizedSearchCV, cross_val_score\n",
    "from sklearn.metrics import r2_score,mean_squared_error,mean_absolute_error\n",
    "import pickle\n",
    "\n",
    "from sklearn.linear_model import LinearRegression\n",
    "from sklearn.tree import DecisionTreeRegressor\n",
    "from sklearn.ensemble import RandomForestRegressor\n",
    "from sklearn.ensemble import AdaBoostRegressor\n",
    "from sklearn.ensemble import GradientBoostingRegressor\n",
    "\n",
    "import warnings\n",
    "warnings.filterwarnings('ignore')"
   ]
  },
  {
   "cell_type": "code",
   "execution_count": 2,
   "id": "f284b41a",
   "metadata": {},
   "outputs": [
    {
     "data": {
      "text/html": [
       "<div>\n",
       "<style scoped>\n",
       "    .dataframe tbody tr th:only-of-type {\n",
       "        vertical-align: middle;\n",
       "    }\n",
       "\n",
       "    .dataframe tbody tr th {\n",
       "        vertical-align: top;\n",
       "    }\n",
       "\n",
       "    .dataframe thead th {\n",
       "        text-align: right;\n",
       "    }\n",
       "</style>\n",
       "<table border=\"1\" class=\"dataframe\">\n",
       "  <thead>\n",
       "    <tr style=\"text-align: right;\">\n",
       "      <th></th>\n",
       "      <th>Unnamed: 0</th>\n",
       "      <th>TV</th>\n",
       "      <th>radio</th>\n",
       "      <th>newspaper</th>\n",
       "      <th>sales</th>\n",
       "    </tr>\n",
       "  </thead>\n",
       "  <tbody>\n",
       "    <tr>\n",
       "      <th>0</th>\n",
       "      <td>1</td>\n",
       "      <td>230.1</td>\n",
       "      <td>37.8</td>\n",
       "      <td>69.2</td>\n",
       "      <td>22.1</td>\n",
       "    </tr>\n",
       "    <tr>\n",
       "      <th>1</th>\n",
       "      <td>2</td>\n",
       "      <td>44.5</td>\n",
       "      <td>39.3</td>\n",
       "      <td>45.1</td>\n",
       "      <td>10.4</td>\n",
       "    </tr>\n",
       "    <tr>\n",
       "      <th>2</th>\n",
       "      <td>3</td>\n",
       "      <td>17.2</td>\n",
       "      <td>45.9</td>\n",
       "      <td>69.3</td>\n",
       "      <td>9.3</td>\n",
       "    </tr>\n",
       "    <tr>\n",
       "      <th>3</th>\n",
       "      <td>4</td>\n",
       "      <td>151.5</td>\n",
       "      <td>41.3</td>\n",
       "      <td>58.5</td>\n",
       "      <td>18.5</td>\n",
       "    </tr>\n",
       "    <tr>\n",
       "      <th>4</th>\n",
       "      <td>5</td>\n",
       "      <td>180.8</td>\n",
       "      <td>10.8</td>\n",
       "      <td>58.4</td>\n",
       "      <td>12.9</td>\n",
       "    </tr>\n",
       "  </tbody>\n",
       "</table>\n",
       "</div>"
      ],
      "text/plain": [
       "   Unnamed: 0     TV  radio  newspaper  sales\n",
       "0           1  230.1   37.8       69.2   22.1\n",
       "1           2   44.5   39.3       45.1   10.4\n",
       "2           3   17.2   45.9       69.3    9.3\n",
       "3           4  151.5   41.3       58.5   18.5\n",
       "4           5  180.8   10.8       58.4   12.9"
      ]
     },
     "execution_count": 2,
     "metadata": {},
     "output_type": "execute_result"
    }
   ],
   "source": [
    "data=pd.read_csv('https://raw.githubusercontent.com/dsrscientist/DSData/master/Advertising.csv')\n",
    "data.head()"
   ]
  },
  {
   "cell_type": "code",
   "execution_count": 3,
   "id": "d302b0ed",
   "metadata": {},
   "outputs": [
    {
     "data": {
      "text/plain": [
       "(200, 5)"
      ]
     },
     "execution_count": 3,
     "metadata": {},
     "output_type": "execute_result"
    }
   ],
   "source": [
    "data.shape"
   ]
  },
  {
   "cell_type": "code",
   "execution_count": 4,
   "id": "5a8412eb",
   "metadata": {},
   "outputs": [
    {
     "data": {
      "text/plain": [
       "Index(['Unnamed: 0', 'TV', 'radio', 'newspaper', 'sales'], dtype='object')"
      ]
     },
     "execution_count": 4,
     "metadata": {},
     "output_type": "execute_result"
    }
   ],
   "source": [
    "data.columns"
   ]
  },
  {
   "cell_type": "code",
   "execution_count": 6,
   "id": "1d2f80ce",
   "metadata": {},
   "outputs": [
    {
     "data": {
      "text/plain": [
       "Unnamed: 0    0\n",
       "TV            0\n",
       "radio         0\n",
       "newspaper     0\n",
       "sales         0\n",
       "dtype: int64"
      ]
     },
     "execution_count": 6,
     "metadata": {},
     "output_type": "execute_result"
    }
   ],
   "source": [
    "data.isnull().sum()"
   ]
  },
  {
   "cell_type": "code",
   "execution_count": 7,
   "id": "325bad80",
   "metadata": {},
   "outputs": [
    {
     "name": "stdout",
     "output_type": "stream",
     "text": [
      "<class 'pandas.core.frame.DataFrame'>\n",
      "RangeIndex: 200 entries, 0 to 199\n",
      "Data columns (total 5 columns):\n",
      " #   Column      Non-Null Count  Dtype  \n",
      "---  ------      --------------  -----  \n",
      " 0   Unnamed: 0  200 non-null    int64  \n",
      " 1   TV          200 non-null    float64\n",
      " 2   radio       200 non-null    float64\n",
      " 3   newspaper   200 non-null    float64\n",
      " 4   sales       200 non-null    float64\n",
      "dtypes: float64(4), int64(1)\n",
      "memory usage: 7.9 KB\n"
     ]
    }
   ],
   "source": [
    "data.info()"
   ]
  },
  {
   "cell_type": "markdown",
   "id": "44af17a9",
   "metadata": {},
   "source": [
    "# ANALYSIS"
   ]
  },
  {
   "cell_type": "markdown",
   "id": "02216fc9",
   "metadata": {},
   "source": [
    "                                  Describe the dataset"
   ]
  },
  {
   "cell_type": "code",
   "execution_count": 8,
   "id": "475707d8",
   "metadata": {},
   "outputs": [
    {
     "data": {
      "text/html": [
       "<div>\n",
       "<style scoped>\n",
       "    .dataframe tbody tr th:only-of-type {\n",
       "        vertical-align: middle;\n",
       "    }\n",
       "\n",
       "    .dataframe tbody tr th {\n",
       "        vertical-align: top;\n",
       "    }\n",
       "\n",
       "    .dataframe thead th {\n",
       "        text-align: right;\n",
       "    }\n",
       "</style>\n",
       "<table border=\"1\" class=\"dataframe\">\n",
       "  <thead>\n",
       "    <tr style=\"text-align: right;\">\n",
       "      <th></th>\n",
       "      <th>Unnamed: 0</th>\n",
       "      <th>TV</th>\n",
       "      <th>radio</th>\n",
       "      <th>newspaper</th>\n",
       "      <th>sales</th>\n",
       "    </tr>\n",
       "  </thead>\n",
       "  <tbody>\n",
       "    <tr>\n",
       "      <th>count</th>\n",
       "      <td>200.000000</td>\n",
       "      <td>200.000000</td>\n",
       "      <td>200.000000</td>\n",
       "      <td>200.000000</td>\n",
       "      <td>200.000000</td>\n",
       "    </tr>\n",
       "    <tr>\n",
       "      <th>mean</th>\n",
       "      <td>100.500000</td>\n",
       "      <td>147.042500</td>\n",
       "      <td>23.264000</td>\n",
       "      <td>30.554000</td>\n",
       "      <td>14.022500</td>\n",
       "    </tr>\n",
       "    <tr>\n",
       "      <th>std</th>\n",
       "      <td>57.879185</td>\n",
       "      <td>85.854236</td>\n",
       "      <td>14.846809</td>\n",
       "      <td>21.778621</td>\n",
       "      <td>5.217457</td>\n",
       "    </tr>\n",
       "    <tr>\n",
       "      <th>min</th>\n",
       "      <td>1.000000</td>\n",
       "      <td>0.700000</td>\n",
       "      <td>0.000000</td>\n",
       "      <td>0.300000</td>\n",
       "      <td>1.600000</td>\n",
       "    </tr>\n",
       "    <tr>\n",
       "      <th>25%</th>\n",
       "      <td>50.750000</td>\n",
       "      <td>74.375000</td>\n",
       "      <td>9.975000</td>\n",
       "      <td>12.750000</td>\n",
       "      <td>10.375000</td>\n",
       "    </tr>\n",
       "    <tr>\n",
       "      <th>50%</th>\n",
       "      <td>100.500000</td>\n",
       "      <td>149.750000</td>\n",
       "      <td>22.900000</td>\n",
       "      <td>25.750000</td>\n",
       "      <td>12.900000</td>\n",
       "    </tr>\n",
       "    <tr>\n",
       "      <th>75%</th>\n",
       "      <td>150.250000</td>\n",
       "      <td>218.825000</td>\n",
       "      <td>36.525000</td>\n",
       "      <td>45.100000</td>\n",
       "      <td>17.400000</td>\n",
       "    </tr>\n",
       "    <tr>\n",
       "      <th>max</th>\n",
       "      <td>200.000000</td>\n",
       "      <td>296.400000</td>\n",
       "      <td>49.600000</td>\n",
       "      <td>114.000000</td>\n",
       "      <td>27.000000</td>\n",
       "    </tr>\n",
       "  </tbody>\n",
       "</table>\n",
       "</div>"
      ],
      "text/plain": [
       "       Unnamed: 0          TV       radio   newspaper       sales\n",
       "count  200.000000  200.000000  200.000000  200.000000  200.000000\n",
       "mean   100.500000  147.042500   23.264000   30.554000   14.022500\n",
       "std     57.879185   85.854236   14.846809   21.778621    5.217457\n",
       "min      1.000000    0.700000    0.000000    0.300000    1.600000\n",
       "25%     50.750000   74.375000    9.975000   12.750000   10.375000\n",
       "50%    100.500000  149.750000   22.900000   25.750000   12.900000\n",
       "75%    150.250000  218.825000   36.525000   45.100000   17.400000\n",
       "max    200.000000  296.400000   49.600000  114.000000   27.000000"
      ]
     },
     "execution_count": 8,
     "metadata": {},
     "output_type": "execute_result"
    }
   ],
   "source": [
    "data.describe()"
   ]
  },
  {
   "cell_type": "code",
   "execution_count": 10,
   "id": "7497e94b",
   "metadata": {},
   "outputs": [
    {
     "data": {
      "image/png": "[encoded data removed]",
      "text/plain": [
       "<Figure size 1080x576 with 2 Axes>"
      ]
     },
     "metadata": {
      "needs_background": "light"
     },
     "output_type": "display_data"
    }
   ],
   "source": [
    "plt.figure(figsize=(15,8))\n",
    "sns.heatmap(data.describe().transpose(),linewidth=2,annot=True,fmt='f')\n",
    "plt.xticks(fontsize=18)\n",
    "plt.yticks(fontsize=12)\n",
    "plt.title(\"Describe the whole dataset\")\n",
    "plt.show()"
   ]
  },
  {
   "cell_type": "markdown",
   "id": "5e8a86f1",
   "metadata": {},
   "source": [
    "The number of rows and columns are:\n",
    "    \n",
    "    * Rows = 200\n",
    "    * Columns = 4\n",
    "    \n",
    "The mean, std, minimum and maximum value are:\n",
    "    \n",
    "    * Unnamed 0:\n",
    "            mean    = 100.500000\n",
    "            std     = 57.87985\n",
    "            minimum = 1.000000\n",
    "            maximum = 200.000000\n",
    "            \n",
    "    * TV:\n",
    "            mean    = 147.042500\n",
    "            std     = 85.854236\n",
    "            minimum = 0.700000\n",
    "            maximum = 296.400000\n",
    "            \n",
    "    * radio:\n",
    "            mean    = 23.264000\n",
    "            std     = 14.846809\n",
    "            minimum = 0.000000\n",
    "            maximum =   49.600000\n",
    "            \n",
    "    * newspaper:\n",
    "            mean    = 30.554000\n",
    "            std     = 21.778621\n",
    "            minimum = 0.300000\n",
    "            maximum = 114.000000      "
   ]
  },
  {
   "cell_type": "markdown",
   "id": "342c8d48",
   "metadata": {},
   "source": [
    "                                          Visualisation"
   ]
  },
  {
   "cell_type": "code",
   "execution_count": 11,
   "id": "34c9f2cc",
   "metadata": {},
   "outputs": [
    {
     "data": {
      "image/png": "[encoded data removed]",
      "text/plain": [
       "<Figure size 1440x1008 with 5 Axes>"
      ]
     },
     "metadata": {},
     "output_type": "display_data"
    }
   ],
   "source": [
    "plt.figure(figsize=(20,14),facecolor = 'pink')\n",
    "plotnumber =1\n",
    "\n",
    "for column in data:\n",
    "    if plotnumber <=5:\n",
    "        ax = plt.subplot(2,3,plotnumber)\n",
    "        sns.distplot(data[column])\n",
    "        plt.xlabel(column,fontsize=20)\n",
    "        \n",
    "    plotnumber+=1\n",
    "plt.show()    "
   ]
  },
  {
   "cell_type": "markdown",
   "id": "75ceb6c5",
   "metadata": {},
   "source": [
    "                                        Correlation"
   ]
  },
  {
   "cell_type": "code",
   "execution_count": 12,
   "id": "5bb5dda9",
   "metadata": {},
   "outputs": [
    {
     "data": {
      "text/html": [
       "<div>\n",
       "<style scoped>\n",
       "    .dataframe tbody tr th:only-of-type {\n",
       "        vertical-align: middle;\n",
       "    }\n",
       "\n",
       "    .dataframe tbody tr th {\n",
       "        vertical-align: top;\n",
       "    }\n",
       "\n",
       "    .dataframe thead th {\n",
       "        text-align: right;\n",
       "    }\n",
       "</style>\n",
       "<table border=\"1\" class=\"dataframe\">\n",
       "  <thead>\n",
       "    <tr style=\"text-align: right;\">\n",
       "      <th></th>\n",
       "      <th>Unnamed: 0</th>\n",
       "      <th>TV</th>\n",
       "      <th>radio</th>\n",
       "      <th>newspaper</th>\n",
       "      <th>sales</th>\n",
       "    </tr>\n",
       "  </thead>\n",
       "  <tbody>\n",
       "    <tr>\n",
       "      <th>Unnamed: 0</th>\n",
       "      <td>1.000000</td>\n",
       "      <td>0.017715</td>\n",
       "      <td>-0.110680</td>\n",
       "      <td>-0.154944</td>\n",
       "      <td>-0.051616</td>\n",
       "    </tr>\n",
       "    <tr>\n",
       "      <th>TV</th>\n",
       "      <td>0.017715</td>\n",
       "      <td>1.000000</td>\n",
       "      <td>0.054809</td>\n",
       "      <td>0.056648</td>\n",
       "      <td>0.782224</td>\n",
       "    </tr>\n",
       "    <tr>\n",
       "      <th>radio</th>\n",
       "      <td>-0.110680</td>\n",
       "      <td>0.054809</td>\n",
       "      <td>1.000000</td>\n",
       "      <td>0.354104</td>\n",
       "      <td>0.576223</td>\n",
       "    </tr>\n",
       "    <tr>\n",
       "      <th>newspaper</th>\n",
       "      <td>-0.154944</td>\n",
       "      <td>0.056648</td>\n",
       "      <td>0.354104</td>\n",
       "      <td>1.000000</td>\n",
       "      <td>0.228299</td>\n",
       "    </tr>\n",
       "    <tr>\n",
       "      <th>sales</th>\n",
       "      <td>-0.051616</td>\n",
       "      <td>0.782224</td>\n",
       "      <td>0.576223</td>\n",
       "      <td>0.228299</td>\n",
       "      <td>1.000000</td>\n",
       "    </tr>\n",
       "  </tbody>\n",
       "</table>\n",
       "</div>"
      ],
      "text/plain": [
       "            Unnamed: 0        TV     radio  newspaper     sales\n",
       "Unnamed: 0    1.000000  0.017715 -0.110680  -0.154944 -0.051616\n",
       "TV            0.017715  1.000000  0.054809   0.056648  0.782224\n",
       "radio        -0.110680  0.054809  1.000000   0.354104  0.576223\n",
       "newspaper    -0.154944  0.056648  0.354104   1.000000  0.228299\n",
       "sales        -0.051616  0.782224  0.576223   0.228299  1.000000"
      ]
     },
     "execution_count": 12,
     "metadata": {},
     "output_type": "execute_result"
    }
   ],
   "source": [
    "data.corr()"
   ]
  },
  {
   "cell_type": "code",
   "execution_count": 14,
   "id": "897e5198",
   "metadata": {},
   "outputs": [
    {
     "data": {
      "text/plain": [
       "<AxesSubplot:>"
      ]
     },
     "execution_count": 14,
     "metadata": {},
     "output_type": "execute_result"
    },
    {
     "data": {
      "image/png": "[encoded data removed]",
      "text/plain": [
       "<Figure size 720x432 with 2 Axes>"
      ]
     },
     "metadata": {
      "needs_background": "light"
     },
     "output_type": "display_data"
    }
   ],
   "source": [
    "plt.figure(figsize=(10,6))\n",
    "sns.heatmap(data.corr(),annot=True,linewidth=0.5,linecolor='black')"
   ]
  },
  {
   "cell_type": "markdown",
   "id": "5984db40",
   "metadata": {},
   "source": [
    "Unnamed 0 has negative correlation and TV, radio and newspaper have positive correlation\n",
    "\n",
    "Correlation of dependent and independent variable are:\n",
    "    \n",
    "    Unnamed 0 has 5% correlation with target variable which can be consider weak bond.\n",
    "    TV has 78% correlation with target variable which can be consider Strong bond.\n",
    "    radio has 58% correlation with target variable which can be consider strong bond.\n",
    "    newspaper has 23% correlation with target variable which can be consider good bond.\n",
    "        "
   ]
  },
  {
   "cell_type": "code",
   "execution_count": 16,
   "id": "319a337c",
   "metadata": {},
   "outputs": [
    {
     "data": {
      "text/plain": [
       "<AxesSubplot:xlabel='newspaper', ylabel='sales'>"
      ]
     },
     "execution_count": 16,
     "metadata": {},
     "output_type": "execute_result"
    },
    {
     "data": {
      "image/png": "[encoded data removed]",
      "text/plain": [
       "<Figure size 1152x432 with 4 Axes>"
      ]
     },
     "metadata": {
      "needs_background": "light"
     },
     "output_type": "display_data"
    }
   ],
   "source": [
    "# Correlation of feature variable to the target variable\n",
    "\n",
    "fig,axs = plt.subplots(1,4)                                                        \n",
    "\n",
    "data.plot(kind='scatter', x='Unnamed: 0', y='sales', ax=axs[0],figsize=(16,6))\n",
    "data.plot(kind='scatter', x='TV', y='sales', ax=axs[1])\n",
    "data.plot(kind='scatter', x='radio', y='sales', ax=axs[2])\n",
    "data.plot(kind='scatter', x='newspaper', y='sales', ax=axs[3])  "
   ]
  },
  {
   "cell_type": "markdown",
   "id": "f378b9b1",
   "metadata": {},
   "source": [
    "                                     Skewness"
   ]
  },
  {
   "cell_type": "code",
   "execution_count": 17,
   "id": "ebf27cf2",
   "metadata": {},
   "outputs": [
    {
     "data": {
      "text/plain": [
       "Unnamed: 0    0.000000\n",
       "TV           -0.069853\n",
       "radio         0.094175\n",
       "newspaper     0.894720\n",
       "sales         0.407571\n",
       "dtype: float64"
      ]
     },
     "execution_count": 17,
     "metadata": {},
     "output_type": "execute_result"
    }
   ],
   "source": [
    "data.skew()"
   ]
  },
  {
   "cell_type": "markdown",
   "id": "c885afee",
   "metadata": {},
   "source": [
    "Take range value of skewness is (-0.5,0.5)\n",
    "\n",
    "Skewness is present in the newspaper."
   ]
  },
  {
   "cell_type": "markdown",
   "id": "829d881d",
   "metadata": {},
   "source": [
    "                                        Outliers"
   ]
  },
  {
   "cell_type": "code",
   "execution_count": 18,
   "id": "003c4058",
   "metadata": {},
   "outputs": [
    {
     "data": {
      "image/png": "[encoded data removed]",
      "text/plain": [
       "<Figure size 1440x720 with 5 Axes>"
      ]
     },
     "metadata": {
      "needs_background": "light"
     },
     "output_type": "display_data"
    }
   ],
   "source": [
    "plt.figure(figsize=(20,10))\n",
    "number = 1\n",
    "\n",
    "for column in data:\n",
    "    if number <=5:\n",
    "        plt.subplot(1,5,number)\n",
    "        ax = sns.boxplot(data=data[column])\n",
    "        plt.xlabel(column,fontsize=15)\n",
    "       \n",
    "    number+=1\n",
    "plt.show()     "
   ]
  },
  {
   "cell_type": "markdown",
   "id": "b0560f37",
   "metadata": {},
   "source": [
    "Outliers are present in the newspaper"
   ]
  },
  {
   "cell_type": "markdown",
   "id": "41b08798",
   "metadata": {},
   "source": [
    "                               VIF for multicolinearity"
   ]
  },
  {
   "cell_type": "code",
   "execution_count": 20,
   "id": "98c229cb",
   "metadata": {},
   "outputs": [],
   "source": [
    "x = data.drop(['sales'],axis=1)\n",
    "y = data['sales']"
   ]
  },
  {
   "cell_type": "code",
   "execution_count": 21,
   "id": "1470d3cb",
   "metadata": {},
   "outputs": [],
   "source": [
    "scaler = StandardScaler()\n",
    "x_scaled = scaler.fit_transform(x)"
   ]
  },
  {
   "cell_type": "code",
   "execution_count": 22,
   "id": "09a691a9",
   "metadata": {},
   "outputs": [
    {
     "data": {
      "text/html": [
       "<div>\n",
       "<style scoped>\n",
       "    .dataframe tbody tr th:only-of-type {\n",
       "        vertical-align: middle;\n",
       "    }\n",
       "\n",
       "    .dataframe tbody tr th {\n",
       "        vertical-align: top;\n",
       "    }\n",
       "\n",
       "    .dataframe thead th {\n",
       "        text-align: right;\n",
       "    }\n",
       "</style>\n",
       "<table border=\"1\" class=\"dataframe\">\n",
       "  <thead>\n",
       "    <tr style=\"text-align: right;\">\n",
       "      <th></th>\n",
       "      <th>VIF</th>\n",
       "      <th>Input</th>\n",
       "    </tr>\n",
       "  </thead>\n",
       "  <tbody>\n",
       "    <tr>\n",
       "      <th>0</th>\n",
       "      <td>1.029228</td>\n",
       "      <td>Unnamed: 0</td>\n",
       "    </tr>\n",
       "    <tr>\n",
       "      <th>1</th>\n",
       "      <td>1.005467</td>\n",
       "      <td>TV</td>\n",
       "    </tr>\n",
       "    <tr>\n",
       "      <th>2</th>\n",
       "      <td>1.149295</td>\n",
       "      <td>radio</td>\n",
       "    </tr>\n",
       "    <tr>\n",
       "      <th>3</th>\n",
       "      <td>1.163551</td>\n",
       "      <td>newspaper</td>\n",
       "    </tr>\n",
       "  </tbody>\n",
       "</table>\n",
       "</div>"
      ],
      "text/plain": [
       "        VIF       Input\n",
       "0  1.029228  Unnamed: 0\n",
       "1  1.005467          TV\n",
       "2  1.149295       radio\n",
       "3  1.163551   newspaper"
      ]
     },
     "execution_count": 22,
     "metadata": {},
     "output_type": "execute_result"
    }
   ],
   "source": [
    "vif=pd.DataFrame()\n",
    "vif['VIF']=[variance_inflation_factor(x_scaled,i)for i in  range(x_scaled.shape[1])]\n",
    "vif['Input']= x.columns\n",
    "vif"
   ]
  },
  {
   "cell_type": "markdown",
   "id": "44caa493",
   "metadata": {},
   "source": [
    "VIF vale is less than 5 so,there is no multicolinearity b/w one feature to another feature."
   ]
  },
  {
   "cell_type": "markdown",
   "id": "006a2e7d",
   "metadata": {},
   "source": [
    "                                     sqrt transformer\n",
    "    \n",
    "  To remove skewness present in the newspaper we use transformer method"
   ]
  },
  {
   "cell_type": "code",
   "execution_count": 23,
   "id": "39c80377",
   "metadata": {},
   "outputs": [],
   "source": [
    "data[\"newspaper\"]=np.sqrt(data[\"newspaper\"])"
   ]
  },
  {
   "cell_type": "code",
   "execution_count": 24,
   "id": "f1c0ca64",
   "metadata": {},
   "outputs": [
    {
     "data": {
      "text/plain": [
       "Unnamed: 0    0.000000\n",
       "TV           -0.069853\n",
       "radio         0.094175\n",
       "newspaper     0.062388\n",
       "sales         0.407571\n",
       "dtype: float64"
      ]
     },
     "execution_count": 24,
     "metadata": {},
     "output_type": "execute_result"
    }
   ],
   "source": [
    "data.skew()"
   ]
  },
  {
   "cell_type": "markdown",
   "id": "fe35763e",
   "metadata": {},
   "source": [
    "Now, the data is not skewed"
   ]
  },
  {
   "cell_type": "code",
   "execution_count": 25,
   "id": "997800d6",
   "metadata": {},
   "outputs": [
    {
     "data": {
      "image/png": "[encoded data removed]",
      "text/plain": [
       "<Figure size 1440x360 with 5 Axes>"
      ]
     },
     "metadata": {},
     "output_type": "display_data"
    }
   ],
   "source": [
    "plt.figure(figsize=(20,5),facecolor = 'white')\n",
    "plotnumber =1\n",
    "\n",
    "for column in data:\n",
    "    if plotnumber <=5:\n",
    "        ax = plt.subplot(1,5,plotnumber)\n",
    "        sns.distplot(data[column])\n",
    "        plt.xlabel(column,fontsize=20)\n",
    "        \n",
    "    plotnumber+=1\n",
    "plt.show()    "
   ]
  },
  {
   "cell_type": "markdown",
   "id": "a747ae5d",
   "metadata": {},
   "source": [
    "# Model Testing"
   ]
  },
  {
   "cell_type": "markdown",
   "id": "a1fa2460",
   "metadata": {},
   "source": [
    "Unnamed 0 has very weak correlation and uniform (at 0 to 200) so we remove it."
   ]
  },
  {
   "cell_type": "code",
   "execution_count": 26,
   "id": "f4a9d2cf",
   "metadata": {},
   "outputs": [],
   "source": [
    "# input variables\n",
    "x=data.drop(['sales','Unnamed: 0'],axis=1)\n",
    "\n",
    "# output variable\n",
    "y=data['sales']"
   ]
  },
  {
   "cell_type": "code",
   "execution_count": 27,
   "id": "0fea267c",
   "metadata": {},
   "outputs": [],
   "source": [
    "scaler = StandardScaler()\n",
    "x_scaled = scaler.fit_transform(x)"
   ]
  },
  {
   "cell_type": "markdown",
   "id": "e9763a0a",
   "metadata": {},
   "source": [
    "                                       Linear Regression"
   ]
  },
  {
   "cell_type": "code",
   "execution_count": 28,
   "id": "529f8cab",
   "metadata": {},
   "outputs": [],
   "source": [
    "lr=LinearRegression()"
   ]
  },
  {
   "cell_type": "code",
   "execution_count": 29,
   "id": "86f12c38",
   "metadata": {},
   "outputs": [
    {
     "name": "stdout",
     "output_type": "stream",
     "text": [
      "The model perform very well\n",
      "random state 95\n",
      "Training accuracy score: 89.4\n",
      "Testing accuracy score: 89.4\n",
      "\n",
      "\n",
      "The model perform very well\n",
      "random state 106\n",
      "Training accuracy score: 89.6\n",
      "Testing accuracy score: 89.6\n",
      "\n",
      "\n",
      "The model perform very well\n",
      "random state 146\n",
      "Training accuracy score: 89.7\n",
      "Testing accuracy score: 89.7\n",
      "\n",
      "\n",
      "The model perform very well\n",
      "random state 185\n",
      "Training accuracy score: 89.6\n",
      "Testing accuracy score: 89.6\n",
      "\n",
      "\n",
      "The model perform very well\n",
      "random state 203\n",
      "Training accuracy score: 89.7\n",
      "Testing accuracy score: 89.7\n",
      "\n",
      "\n",
      "The model perform very well\n",
      "random state 268\n",
      "Training accuracy score: 89.7\n",
      "Testing accuracy score: 89.7\n",
      "\n",
      "\n",
      "The model perform very well\n",
      "random state 356\n",
      "Training accuracy score: 89.6\n",
      "Testing accuracy score: 89.6\n",
      "\n",
      "\n",
      "The model perform very well\n",
      "random state 442\n",
      "Training accuracy score: 89.5\n",
      "Testing accuracy score: 89.5\n",
      "\n",
      "\n",
      "The model perform very well\n",
      "random state 474\n",
      "Training accuracy score: 89.7\n",
      "Testing accuracy score: 89.7\n",
      "\n",
      "\n",
      "The model perform very well\n",
      "random state 544\n",
      "Training accuracy score: 89.7\n",
      "Testing accuracy score: 89.7\n",
      "\n",
      "\n",
      "The model perform very well\n",
      "random state 701\n",
      "Training accuracy score: 89.7\n",
      "Testing accuracy score: 89.7\n",
      "\n",
      "\n",
      "The model perform very well\n",
      "random state 754\n",
      "Training accuracy score: 89.7\n",
      "Testing accuracy score: 89.7\n",
      "\n",
      "\n",
      "The model perform very well\n",
      "random state 887\n",
      "Training accuracy score: 89.5\n",
      "Testing accuracy score: 89.5\n",
      "\n",
      "\n",
      "The model perform very well\n",
      "random state 919\n",
      "Training accuracy score: 89.5\n",
      "Testing accuracy score: 89.5\n",
      "\n",
      "\n",
      "The model perform very well\n",
      "random state 998\n",
      "Training accuracy score: 89.7\n",
      "Testing accuracy score: 89.7\n",
      "\n",
      "\n"
     ]
    }
   ],
   "source": [
    "for i in range(0,1000):\n",
    "    x_train,x_test,y_train,y_test = train_test_split(x_scaled,y,test_size = 0.20,random_state = i)\n",
    "    lr.fit(x_train,y_train)\n",
    "    pred_train=lr.predict(x_train)\n",
    "    pred_test=lr.predict(x_test)\n",
    "    if round(r2_score(y_train,pred_train)*100,1)==round(r2_score(y_test,pred_test)*100,1):\n",
    "        print(\"The model perform very well\")\n",
    "        print(\"random state\",i)\n",
    "        print(\"Training accuracy score:\",round(r2_score(y_train,pred_train)*100,1))\n",
    "        print(\"Testing accuracy score:\",round(r2_score(y_test,pred_test)*100,1))\n",
    "        print('\\n')"
   ]
  },
  {
   "cell_type": "code",
   "execution_count": 30,
   "id": "cdf58d20",
   "metadata": {},
   "outputs": [],
   "source": [
    "x_train,x_test,y_train,y_test = train_test_split(x_scaled,y,test_size = 0.20,random_state =998)"
   ]
  },
  {
   "cell_type": "code",
   "execution_count": 31,
   "id": "1888bd40",
   "metadata": {},
   "outputs": [
    {
     "data": {
      "text/plain": [
       "LinearRegression()"
      ]
     },
     "execution_count": 31,
     "metadata": {},
     "output_type": "execute_result"
    }
   ],
   "source": [
    "lr.fit(x_train,y_train)"
   ]
  },
  {
   "cell_type": "code",
   "execution_count": 32,
   "id": "30dcb90b",
   "metadata": {},
   "outputs": [
    {
     "name": "stdout",
     "output_type": "stream",
     "text": [
      "R square score for testing 89.68534130419984\n"
     ]
    }
   ],
   "source": [
    "pred_test=lr.predict(x_test)\n",
    "\n",
    "accuracy=r2_score(y_test,pred_test)*100\n",
    "print(\"R square score for testing\",accuracy)"
   ]
  },
  {
   "cell_type": "code",
   "execution_count": 33,
   "id": "00f007fe",
   "metadata": {},
   "outputs": [
    {
     "name": "stdout",
     "output_type": "stream",
     "text": [
      "At cross fold 2 the cv score is 0.8916349860383765\n",
      "\n",
      "\n",
      "At cross fold 3 the cv score is 0.8915588165323286\n",
      "\n",
      "\n",
      "At cross fold 4 the cv score is 0.8903579284297554\n",
      "\n",
      "\n",
      "At cross fold 5 the cv score is 0.8873331295445761\n",
      "\n",
      "\n",
      "At cross fold 6 the cv score is 0.8900202280811488\n",
      "\n",
      "\n",
      "At cross fold 7 the cv score is 0.8861692012354758\n",
      "\n",
      "\n",
      "At cross fold 8 the cv score is 0.8826536626159895\n",
      "\n",
      "\n",
      "At cross fold 9 the cv score is 0.882418124174371\n",
      "\n",
      "\n"
     ]
    }
   ],
   "source": [
    "for j in range(2,10):\n",
    "    cv_score=cross_val_score(lr,x_scaled,y,cv=j)\n",
    "    cv_mean=cv_score.mean()\n",
    "    print(f\"At cross fold {j} the cv score is {cv_mean}\")\n",
    "    print(\"\\n\")"
   ]
  },
  {
   "cell_type": "code",
   "execution_count": 34,
   "id": "d6c858a2",
   "metadata": {},
   "outputs": [
    {
     "name": "stdout",
     "output_type": "stream",
     "text": [
      "cross val score: 89.16349860383765\n"
     ]
    }
   ],
   "source": [
    "lrscore=cross_val_score(lr,x_scaled,y,cv=2)\n",
    "lrc=lrscore.mean()\n",
    "print('cross val score:',lrc*100)"
   ]
  },
  {
   "cell_type": "code",
   "execution_count": 35,
   "id": "f2a96b11",
   "metadata": {},
   "outputs": [
    {
     "name": "stdout",
     "output_type": "stream",
     "text": [
      "Mean absolute error: 1.2304703696583756\n",
      "Mean square error: 2.496399468855517\n",
      "Root mean square error: 1.5799998319162938\n"
     ]
    }
   ],
   "source": [
    "mae=mean_absolute_error(y_test,pred_test)\n",
    "mse=mean_squared_error(y_test,pred_test)\n",
    "rmse=np.sqrt(mean_squared_error(y_test,pred_test))\n",
    "\n",
    "print(\"Mean absolute error:\",mae)\n",
    "print(\"Mean square error:\",mse)\n",
    "print(\"Root mean square error:\",rmse)"
   ]
  },
  {
   "cell_type": "markdown",
   "id": "abd2dd89",
   "metadata": {},
   "source": [
    "                                       Decission Tree Regressor"
   ]
  },
  {
   "cell_type": "code",
   "execution_count": 36,
   "id": "f52d4411",
   "metadata": {},
   "outputs": [
    {
     "data": {
      "text/plain": [
       "DecisionTreeRegressor()"
      ]
     },
     "execution_count": 36,
     "metadata": {},
     "output_type": "execute_result"
    }
   ],
   "source": [
    "dtr=DecisionTreeRegressor()\n",
    "\n",
    "dtr.fit(x_train,y_train)"
   ]
  },
  {
   "cell_type": "code",
   "execution_count": 37,
   "id": "1a6d048a",
   "metadata": {},
   "outputs": [
    {
     "name": "stdout",
     "output_type": "stream",
     "text": [
      "R2 score of testing: 94.64723474463193\n",
      "cross val score: 93.80506974159097\n"
     ]
    }
   ],
   "source": [
    "pred_test=dtr.predict(x_test)\n",
    "dtrs=r2_score(y_test,pred_test)\n",
    "print(\"R2 score of testing:\",dtrs*100)\n",
    "\n",
    "dtrscore=cross_val_score(dtr,x_scaled,y,cv=2)\n",
    "dtrc=dtrscore.mean()\n",
    "print('cross val score:',dtrc*100)"
   ]
  },
  {
   "cell_type": "code",
   "execution_count": 38,
   "id": "57b931fc",
   "metadata": {},
   "outputs": [
    {
     "name": "stdout",
     "output_type": "stream",
     "text": [
      "Mean absolute error: 0.8400000000000002\n",
      "Mean square error: 1.2954999999999999\n",
      "Root mean square error: 1.1382003338604325\n"
     ]
    }
   ],
   "source": [
    "mae=mean_absolute_error(y_test,pred_test)\n",
    "mse=mean_squared_error(y_test,pred_test)\n",
    "rmse=np.sqrt(mean_squared_error(y_test,pred_test))\n",
    "\n",
    "print(\"Mean absolute error:\",mae)\n",
    "print(\"Mean square error:\",mse)\n",
    "print(\"Root mean square error:\",rmse)"
   ]
  },
  {
   "cell_type": "markdown",
   "id": "99c62204",
   "metadata": {},
   "source": [
    "                                     Random Forest Regressor"
   ]
  },
  {
   "cell_type": "code",
   "execution_count": 390,
   "id": "7ada99a7",
   "metadata": {},
   "outputs": [
    {
     "data": {
      "text/plain": [
       "RandomForestRegressor()"
      ]
     },
     "execution_count": 390,
     "metadata": {},
     "output_type": "execute_result"
    }
   ],
   "source": [
    "rfr=RandomForestRegressor()\n",
    "\n",
    "rfr.fit(x_train,y_train)"
   ]
  },
  {
   "cell_type": "code",
   "execution_count": 391,
   "id": "85655440",
   "metadata": {},
   "outputs": [
    {
     "name": "stdout",
     "output_type": "stream",
     "text": [
      "R2 score for testing: 98.34808468463025\n",
      "cross val score: 97.1037677609865\n"
     ]
    }
   ],
   "source": [
    "pred_test=rfr.predict(x_test)\n",
    "rfrs=r2_score(y_test,pred_test)\n",
    "print(\"R2 score for testing:\",rfrs*100)\n",
    "\n",
    "rfrscore=cross_val_score(rfr,x_scaled,y,cv=2)\n",
    "rfrc=rfrscore.mean()\n",
    "print('cross val score:',rfrc*100)"
   ]
  },
  {
   "cell_type": "code",
   "execution_count": 392,
   "id": "58cf362f",
   "metadata": {},
   "outputs": [
    {
     "name": "stdout",
     "output_type": "stream",
     "text": [
      "Mean absolute error: 0.49332499999999896\n",
      "Mean square error: 0.39980387499999825\n",
      "Root mean square error: 0.6323004625966979\n"
     ]
    }
   ],
   "source": [
    "mae=mean_absolute_error(y_test,pred_test)\n",
    "mse=mean_squared_error(y_test,pred_test)\n",
    "rmse=np.sqrt(mean_squared_error(y_test,pred_test))\n",
    "\n",
    "print(\"Mean absolute error:\",mae)\n",
    "print(\"Mean square error:\",mse)\n",
    "print(\"Root mean square error:\",rmse)"
   ]
  },
  {
   "cell_type": "markdown",
   "id": "0744d894",
   "metadata": {},
   "source": [
    "                                       Ada Boost Regressor"
   ]
  },
  {
   "cell_type": "code",
   "execution_count": 43,
   "id": "b966b16f",
   "metadata": {},
   "outputs": [
    {
     "data": {
      "text/plain": [
       "AdaBoostRegressor()"
      ]
     },
     "execution_count": 43,
     "metadata": {},
     "output_type": "execute_result"
    }
   ],
   "source": [
    "ada= AdaBoostRegressor()\n",
    "\n",
    "ada.fit(x_train,y_train)"
   ]
  },
  {
   "cell_type": "code",
   "execution_count": 45,
   "id": "485cbcc9",
   "metadata": {},
   "outputs": [
    {
     "name": "stdout",
     "output_type": "stream",
     "text": [
      "R2 score: 96.77693875562152\n",
      "cross val score: 95.25781565547258\n"
     ]
    }
   ],
   "source": [
    "pred_test=ada.predict(x_test)\n",
    "adas=r2_score(y_test,pred_test)\n",
    "print(\"R2 score:\",adas*100)\n",
    "\n",
    "adascore=cross_val_score(ada,x_scaled,y,cv=2)\n",
    "adac=adascore.mean()\n",
    "print('cross val score:',adac*100)"
   ]
  },
  {
   "cell_type": "code",
   "execution_count": 46,
   "id": "7ac202c0",
   "metadata": {},
   "outputs": [
    {
     "name": "stdout",
     "output_type": "stream",
     "text": [
      "Mean absolute error: 0.7227624292518143\n",
      "Mean square error: 0.7800595846987536\n",
      "Root mean square error: 0.8832098191815768\n"
     ]
    }
   ],
   "source": [
    "mae=mean_absolute_error(y_test,pred_test)\n",
    "mse=mean_squared_error(y_test,pred_test)\n",
    "rmse=np.sqrt(mean_squared_error(y_test,pred_test))\n",
    "\n",
    "print(\"Mean absolute error:\",mae)\n",
    "print(\"Mean square error:\",mse)\n",
    "print(\"Root mean square error:\",rmse)"
   ]
  },
  {
   "cell_type": "markdown",
   "id": "4dac3f06",
   "metadata": {},
   "source": [
    "                                 Gradient Boosting Regressor"
   ]
  },
  {
   "cell_type": "code",
   "execution_count": 47,
   "id": "da7c4aec",
   "metadata": {},
   "outputs": [
    {
     "data": {
      "text/plain": [
       "GradientBoostingRegressor()"
      ]
     },
     "execution_count": 47,
     "metadata": {},
     "output_type": "execute_result"
    }
   ],
   "source": [
    "gb= GradientBoostingRegressor()\n",
    "\n",
    "gb.fit(x_train,y_train)"
   ]
  },
  {
   "cell_type": "code",
   "execution_count": 48,
   "id": "12d065ea",
   "metadata": {},
   "outputs": [
    {
     "name": "stdout",
     "output_type": "stream",
     "text": [
      "R square score 98.73795173084558\n",
      "cross val score: 97.35661813587309\n"
     ]
    }
   ],
   "source": [
    "pred_test=gb.predict(x_test)\n",
    "accuracy=r2_score(y_test,pred_test)*100\n",
    "print(\"R square score\",accuracy)\n",
    "\n",
    "gbscore=cross_val_score(gb,x_scaled,y,cv=2)\n",
    "gbc=gbscore.mean()\n",
    "print('cross val score:',gbc*100)"
   ]
  },
  {
   "cell_type": "code",
   "execution_count": 49,
   "id": "d83211dd",
   "metadata": {},
   "outputs": [
    {
     "name": "stdout",
     "output_type": "stream",
     "text": [
      "Mean absolute error: 0.45183946527667357\n",
      "Mean square error: 0.3054465224399496\n",
      "Root mean square error: 0.5526721654289726\n"
     ]
    }
   ],
   "source": [
    "mae=mean_absolute_error(y_test,pred_test)\n",
    "mse=mean_squared_error(y_test,pred_test)\n",
    "rmse=np.sqrt(mean_squared_error(y_test,pred_test))\n",
    "\n",
    "print(\"Mean absolute error:\",mae)\n",
    "print(\"Mean square error:\",mse)\n",
    "print(\"Root mean square error:\",rmse)"
   ]
  },
  {
   "cell_type": "markdown",
   "id": "2afb17d4",
   "metadata": {},
   "source": [
    "The value of r2 score and cv for the 5 machine learning model are:\n",
    "    \n",
    "* Linear Regression\n",
    "     r2_score: 89.68\n",
    "        cv   : 89.16\n",
    "            \n",
    "* Decission Tree Regressor\n",
    "     r2_score: 94.64\n",
    "        cv   : 93.80\n",
    "            \n",
    "* Random Forest Regressor\n",
    "     r2_score: 98.34\n",
    "        cv   : 97.10\n",
    "            \n",
    "* AdaBoostRegressor\n",
    "     r2_score: 96.77\n",
    "        cv   : 95.25\n",
    "            \n",
    "* Gradient Boosting Regressor\n",
    "     r2_score: 98.73\n",
    "        cv   : 97.35\n",
    "            \n",
    "All the model give good result but Decission Tree Regressor and Gradient Boosting Regressor give better result because its \n",
    "score is maximum and the difference is very less. From both of them we select the model for our prediction is Random Forest\n",
    "Regressor."
   ]
  },
  {
   "cell_type": "markdown",
   "id": "0bd78613",
   "metadata": {},
   "source": [
    "# Random Forest Regressor"
   ]
  },
  {
   "cell_type": "markdown",
   "id": "061c0483",
   "metadata": {},
   "source": [
    "                                        HYPER TUNNING"
   ]
  },
  {
   "cell_type": "code",
   "execution_count": 393,
   "id": "4432d834",
   "metadata": {},
   "outputs": [],
   "source": [
    "rfr=RandomForestRegressor()"
   ]
  },
  {
   "cell_type": "code",
   "execution_count": 394,
   "id": "1f63840b",
   "metadata": {},
   "outputs": [],
   "source": [
    "parameters = {'max_features':['auto','sqrt'],\n",
    "             'max_depth':range(10,25),\n",
    "             'min_samples_leaf':range(2,5),\n",
    "             'min_samples_split':range(2,5)}"
   ]
  },
  {
   "cell_type": "code",
   "execution_count": 407,
   "id": "ebfd5d40",
   "metadata": {},
   "outputs": [
    {
     "data": {
      "text/plain": [
       "{'min_samples_split': 3,\n",
       " 'min_samples_leaf': 2,\n",
       " 'max_features': 'auto',\n",
       " 'max_depth': 18}"
      ]
     },
     "execution_count": 407,
     "metadata": {},
     "output_type": "execute_result"
    }
   ],
   "source": [
    "RCV=RandomizedSearchCV(rfr,parameters,cv=2,n_jobs=-1)\n",
    "RCV.fit(x_train,y_train)\n",
    "RCV.best_params_"
   ]
  },
  {
   "cell_type": "code",
   "execution_count": 408,
   "id": "01e99ef6",
   "metadata": {},
   "outputs": [
    {
     "data": {
      "text/plain": [
       "98.41225573304689"
      ]
     },
     "execution_count": 408,
     "metadata": {},
     "output_type": "execute_result"
    }
   ],
   "source": [
    "clf = RandomForestRegressor(min_samples_split=3,min_samples_leaf=2,max_features='auto',max_depth=18)\n",
    "\n",
    "clf.fit(x_train,y_train)\n",
    "\n",
    "y_pred = clf.predict(x_test)\n",
    "r2_score(y_test,y_pred)*100"
   ]
  },
  {
   "cell_type": "code",
   "execution_count": null,
   "id": "ccf545e6",
   "metadata": {},
   "outputs": [],
   "source": [
    "After hyper tuning we get value of random forest is 98.41% and previous value of accuracy score is 98.34%. The variation comes\n",
    "only in the decimal value."
   ]
  },
  {
   "cell_type": "markdown",
   "id": "7b60c77c",
   "metadata": {},
   "source": [
    "                                 Plot a graph b/w actual and predicted value"
   ]
  },
  {
   "cell_type": "code",
   "execution_count": 409,
   "id": "8bfe5fad",
   "metadata": {},
   "outputs": [
    {
     "data": {
      "image/png": "[encoded data removed]",
      "text/plain": [
       "<Figure size 576x360 with 1 Axes>"
      ]
     },
     "metadata": {
      "needs_background": "light"
     },
     "output_type": "display_data"
    }
   ],
   "source": [
    "plt.figure(figsize=(8,5))\n",
    "plt.scatter(y_test,y_pred,color='red')\n",
    "plt.plot(y_test,y_test,color='blue')\n",
    "plt.xlabel('Actual values')\n",
    "plt.ylabel('Predicted values')\n",
    "plt.title('Random Forest Regressor')                                                                                \n",
    "plt.show()"
   ]
  },
  {
   "cell_type": "markdown",
   "id": "42a69b9c",
   "metadata": {},
   "source": [
    "There is less variation b/w actual and predicted values.\n",
    "The r2_score for the model is 98.41%"
   ]
  },
  {
   "cell_type": "markdown",
   "id": "c1e45e4f",
   "metadata": {},
   "source": [
    "                                     Save file using pikle method"
   ]
  },
  {
   "cell_type": "code",
   "execution_count": 413,
   "id": "8ffba1d8",
   "metadata": {},
   "outputs": [],
   "source": [
    "filename='sales.pkl'\n",
    "pickle.dump(rfr,open(filename,'wb'))"
   ]
  },
  {
   "cell_type": "code",
   "execution_count": 417,
   "id": "7a8be53b",
   "metadata": {},
   "outputs": [
    {
     "name": "stdout",
     "output_type": "stream",
     "text": [
      "0.9838021635728417\n"
     ]
    }
   ],
   "source": [
    "loaded_model= pickle.load(open('sales.pkl','rb'))\n",
    "result= loaded_model.score(x_test,y_test)\n",
    "print(result)"
   ]
  },
  {
   "cell_type": "markdown",
   "id": "6063d8ed",
   "metadata": {},
   "source": [
    "                                        Conclusion"
   ]
  },
  {
   "cell_type": "code",
   "execution_count": 420,
   "id": "2720940d",
   "metadata": {},
   "outputs": [
    {
     "data": {
      "text/html": [
       "<div>\n",
       "<style scoped>\n",
       "    .dataframe tbody tr th:only-of-type {\n",
       "        vertical-align: middle;\n",
       "    }\n",
       "\n",
       "    .dataframe tbody tr th {\n",
       "        vertical-align: top;\n",
       "    }\n",
       "\n",
       "    .dataframe thead th {\n",
       "        text-align: right;\n",
       "    }\n",
       "</style>\n",
       "<table border=\"1\" class=\"dataframe\">\n",
       "  <thead>\n",
       "    <tr style=\"text-align: right;\">\n",
       "      <th></th>\n",
       "      <th>Actual_value</th>\n",
       "      <th>Predicted_value</th>\n",
       "    </tr>\n",
       "  </thead>\n",
       "  <tbody>\n",
       "    <tr>\n",
       "      <th>3</th>\n",
       "      <td>18.5</td>\n",
       "      <td>18.131441</td>\n",
       "    </tr>\n",
       "    <tr>\n",
       "      <th>74</th>\n",
       "      <td>17.0</td>\n",
       "      <td>17.157619</td>\n",
       "    </tr>\n",
       "    <tr>\n",
       "      <th>100</th>\n",
       "      <td>11.7</td>\n",
       "      <td>12.187804</td>\n",
       "    </tr>\n",
       "    <tr>\n",
       "      <th>151</th>\n",
       "      <td>11.6</td>\n",
       "      <td>11.842364</td>\n",
       "    </tr>\n",
       "    <tr>\n",
       "      <th>138</th>\n",
       "      <td>9.6</td>\n",
       "      <td>10.159295</td>\n",
       "    </tr>\n",
       "    <tr>\n",
       "      <th>157</th>\n",
       "      <td>10.1</td>\n",
       "      <td>10.537067</td>\n",
       "    </tr>\n",
       "    <tr>\n",
       "      <th>79</th>\n",
       "      <td>11.0</td>\n",
       "      <td>11.215221</td>\n",
       "    </tr>\n",
       "    <tr>\n",
       "      <th>173</th>\n",
       "      <td>11.7</td>\n",
       "      <td>12.231314</td>\n",
       "    </tr>\n",
       "    <tr>\n",
       "      <th>22</th>\n",
       "      <td>5.6</td>\n",
       "      <td>6.196924</td>\n",
       "    </tr>\n",
       "    <tr>\n",
       "      <th>16</th>\n",
       "      <td>12.5</td>\n",
       "      <td>12.618142</td>\n",
       "    </tr>\n",
       "    <tr>\n",
       "      <th>45</th>\n",
       "      <td>14.9</td>\n",
       "      <td>15.557632</td>\n",
       "    </tr>\n",
       "    <tr>\n",
       "      <th>158</th>\n",
       "      <td>7.3</td>\n",
       "      <td>6.591543</td>\n",
       "    </tr>\n",
       "    <tr>\n",
       "      <th>193</th>\n",
       "      <td>19.6</td>\n",
       "      <td>19.009953</td>\n",
       "    </tr>\n",
       "    <tr>\n",
       "      <th>57</th>\n",
       "      <td>13.2</td>\n",
       "      <td>13.498586</td>\n",
       "    </tr>\n",
       "    <tr>\n",
       "      <th>160</th>\n",
       "      <td>14.4</td>\n",
       "      <td>14.193456</td>\n",
       "    </tr>\n",
       "    <tr>\n",
       "      <th>97</th>\n",
       "      <td>15.5</td>\n",
       "      <td>15.350945</td>\n",
       "    </tr>\n",
       "    <tr>\n",
       "      <th>55</th>\n",
       "      <td>23.7</td>\n",
       "      <td>22.455288</td>\n",
       "    </tr>\n",
       "    <tr>\n",
       "      <th>93</th>\n",
       "      <td>22.2</td>\n",
       "      <td>22.241417</td>\n",
       "    </tr>\n",
       "    <tr>\n",
       "      <th>37</th>\n",
       "      <td>14.7</td>\n",
       "      <td>13.540308</td>\n",
       "    </tr>\n",
       "    <tr>\n",
       "      <th>146</th>\n",
       "      <td>13.2</td>\n",
       "      <td>12.866768</td>\n",
       "    </tr>\n",
       "    <tr>\n",
       "      <th>69</th>\n",
       "      <td>22.3</td>\n",
       "      <td>22.435644</td>\n",
       "    </tr>\n",
       "    <tr>\n",
       "      <th>153</th>\n",
       "      <td>19.0</td>\n",
       "      <td>18.543733</td>\n",
       "    </tr>\n",
       "    <tr>\n",
       "      <th>116</th>\n",
       "      <td>12.2</td>\n",
       "      <td>13.397508</td>\n",
       "    </tr>\n",
       "    <tr>\n",
       "      <th>198</th>\n",
       "      <td>25.5</td>\n",
       "      <td>24.867688</td>\n",
       "    </tr>\n",
       "    <tr>\n",
       "      <th>2</th>\n",
       "      <td>9.3</td>\n",
       "      <td>7.932200</td>\n",
       "    </tr>\n",
       "    <tr>\n",
       "      <th>56</th>\n",
       "      <td>5.5</td>\n",
       "      <td>6.109995</td>\n",
       "    </tr>\n",
       "    <tr>\n",
       "      <th>21</th>\n",
       "      <td>12.5</td>\n",
       "      <td>12.300332</td>\n",
       "    </tr>\n",
       "    <tr>\n",
       "      <th>33</th>\n",
       "      <td>17.4</td>\n",
       "      <td>15.988095</td>\n",
       "    </tr>\n",
       "    <tr>\n",
       "      <th>85</th>\n",
       "      <td>15.2</td>\n",
       "      <td>15.096008</td>\n",
       "    </tr>\n",
       "    <tr>\n",
       "      <th>49</th>\n",
       "      <td>9.7</td>\n",
       "      <td>10.117552</td>\n",
       "    </tr>\n",
       "    <tr>\n",
       "      <th>10</th>\n",
       "      <td>8.6</td>\n",
       "      <td>9.371046</td>\n",
       "    </tr>\n",
       "    <tr>\n",
       "      <th>60</th>\n",
       "      <td>8.1</td>\n",
       "      <td>8.584465</td>\n",
       "    </tr>\n",
       "    <tr>\n",
       "      <th>178</th>\n",
       "      <td>11.8</td>\n",
       "      <td>11.691830</td>\n",
       "    </tr>\n",
       "    <tr>\n",
       "      <th>121</th>\n",
       "      <td>7.0</td>\n",
       "      <td>7.326110</td>\n",
       "    </tr>\n",
       "    <tr>\n",
       "      <th>51</th>\n",
       "      <td>10.7</td>\n",
       "      <td>10.159001</td>\n",
       "    </tr>\n",
       "    <tr>\n",
       "      <th>111</th>\n",
       "      <td>21.8</td>\n",
       "      <td>22.825420</td>\n",
       "    </tr>\n",
       "    <tr>\n",
       "      <th>82</th>\n",
       "      <td>11.3</td>\n",
       "      <td>11.495217</td>\n",
       "    </tr>\n",
       "    <tr>\n",
       "      <th>80</th>\n",
       "      <td>11.8</td>\n",
       "      <td>12.055885</td>\n",
       "    </tr>\n",
       "    <tr>\n",
       "      <th>112</th>\n",
       "      <td>14.1</td>\n",
       "      <td>14.102237</td>\n",
       "    </tr>\n",
       "    <tr>\n",
       "      <th>29</th>\n",
       "      <td>10.5</td>\n",
       "      <td>11.091911</td>\n",
       "    </tr>\n",
       "  </tbody>\n",
       "</table>\n",
       "</div>"
      ],
      "text/plain": [
       "     Actual_value  Predicted_value\n",
       "3            18.5        18.131441\n",
       "74           17.0        17.157619\n",
       "100          11.7        12.187804\n",
       "151          11.6        11.842364\n",
       "138           9.6        10.159295\n",
       "157          10.1        10.537067\n",
       "79           11.0        11.215221\n",
       "173          11.7        12.231314\n",
       "22            5.6         6.196924\n",
       "16           12.5        12.618142\n",
       "45           14.9        15.557632\n",
       "158           7.3         6.591543\n",
       "193          19.6        19.009953\n",
       "57           13.2        13.498586\n",
       "160          14.4        14.193456\n",
       "97           15.5        15.350945\n",
       "55           23.7        22.455288\n",
       "93           22.2        22.241417\n",
       "37           14.7        13.540308\n",
       "146          13.2        12.866768\n",
       "69           22.3        22.435644\n",
       "153          19.0        18.543733\n",
       "116          12.2        13.397508\n",
       "198          25.5        24.867688\n",
       "2             9.3         7.932200\n",
       "56            5.5         6.109995\n",
       "21           12.5        12.300332\n",
       "33           17.4        15.988095\n",
       "85           15.2        15.096008\n",
       "49            9.7        10.117552\n",
       "10            8.6         9.371046\n",
       "60            8.1         8.584465\n",
       "178          11.8        11.691830\n",
       "121           7.0         7.326110\n",
       "51           10.7        10.159001\n",
       "111          21.8        22.825420\n",
       "82           11.3        11.495217\n",
       "80           11.8        12.055885\n",
       "112          14.1        14.102237\n",
       "29           10.5        11.091911"
      ]
     },
     "execution_count": 420,
     "metadata": {},
     "output_type": "execute_result"
    }
   ],
   "source": [
    "Prediction=pd.DataFrame({\"Actual_value\":y_test,\"Predicted_value\":y_pred})\n",
    "Prediction"
   ]
  }
 ],
 "metadata": {
  "kernelspec": {
   "display_name": "Python 3 (ipykernel)",
   "language": "python",
   "name": "python3"
  },
  "language_info": {
   "codemirror_mode": {
    "name": "ipython",
    "version": 3
   },
   "file_extension": ".py",
   "mimetype": "text/x-python",
   "name": "python",
   "nbconvert_exporter": "python",
   "pygments_lexer": "ipython3",
   "version": "3.9.7"
  }
 },
 "nbformat": 4,
 "nbformat_minor": 5
}
